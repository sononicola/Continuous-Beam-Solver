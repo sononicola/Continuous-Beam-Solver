{
 "cells": [
  {
   "cell_type": "code",
   "execution_count": 1,
   "metadata": {},
   "outputs": [],
   "source": [
    "from solver import Span, Beam"
   ]
  },
  {
   "cell_type": "code",
   "execution_count": 2,
   "metadata": {},
   "outputs": [],
   "source": [
    "J = (0.3 * 0.5**3)/12 # m4\n",
    "EJ =  31476*1000000*J/1000 # Mpa * m4 -> N*m2 -> kN*m2\n",
    "\n",
    "c_1 = Span(lenght = 3.00, ej = EJ)\n",
    "c_2 = Span(lenght = 4.50, ej = EJ)\n",
    "c_3 = Span(lenght = 4.00, ej = EJ)\n",
    "c_4 = Span(lenght = 5.00, ej = EJ)\n",
    "c_5 = Span(lenght = 6.15, ej = EJ)\n",
    "c_6 = Span(lenght = 4.00, ej = EJ)\n",
    "\n",
    "trave = Beam(spans = [c_1, c_2, c_3, c_4, c_5, c_6])"
   ]
  },
  {
   "cell_type": "code",
   "execution_count": 3,
   "metadata": {},
   "outputs": [
    {
     "name": "stdout",
     "output_type": "stream",
     "text": [
      "trave.spans_lenght() = [3.0, 4.5, 4.0, 5.0, 6.15, 4.0]\n",
      "trave.spans_total_lenght() = 26.65\n",
      "trave.spans_cum_lenght() = array([ 3.  ,  7.5 , 11.5 , 16.5 , 22.65, 26.65])\n",
      "trave.spans_ej() = [98362.49999999999, 98362.49999999999, 98362.49999999999, 98362.49999999999, 98362.49999999999, 98362.49999999999]\n",
      "trave.spans_q_max() = [0.0, 0.0, 0.0, 0.0, 0.0, 0.0]\n",
      "trave.spans_q_min() = [0.0, 0.0, 0.0, 0.0, 0.0, 0.0]\n"
     ]
    }
   ],
   "source": [
    "print(f\"{trave.spans_lenght() = }\")\n",
    "print(f\"{trave.spans_total_lenght() = }\")\n",
    "print(f\"{trave.spans_cum_lenght() = }\")\n",
    "print(f\"{trave.spans_ej() = }\")\n",
    "print(f\"{trave.spans_q_max() = }\")\n",
    "print(f\"{trave.spans_q_min() = }\")\n"
   ]
  },
  {
   "cell_type": "code",
   "execution_count": 4,
   "metadata": {},
   "outputs": [
    {
     "name": "stdout",
     "output_type": "stream",
     "text": [
      "2\n",
      "6\n",
      "7.6\n",
      "[1, 5, 1.5]\n",
      "[2, 6, 7.6]\n",
      "[0.0, 0.0, 0.0]\n",
      "[0.0, 0.0, 0.0]\n"
     ]
    }
   ],
   "source": [
    "x1 = Span(1,2)\n",
    "x2 = Span(5,6)\n",
    "x3 = Span(1.5, 7.6)\n",
    "beam = Beam([x1,x2,x3])\n",
    "\n",
    "for span in beam.spans: \n",
    "    print(span.ej)\n",
    "\n",
    "print(beam.spans_lenght())\n",
    "print(beam.spans_ej())\n",
    "print(beam.spans_q_max())\n",
    "print(beam.spans_q_min())\n"
   ]
  },
  {
   "cell_type": "code",
   "execution_count": null,
   "metadata": {},
   "outputs": [],
   "source": []
  }
 ],
 "metadata": {
  "interpreter": {
   "hash": "e9dfbbb36e3b3679682f891148ee1981976897dd5367a65a9c1bc658de856a84"
  },
  "kernelspec": {
   "display_name": "Python 3.9.7 ('st')",
   "language": "python",
   "name": "python3"
  },
  "language_info": {
   "codemirror_mode": {
    "name": "ipython",
    "version": 3
   },
   "file_extension": ".py",
   "mimetype": "text/x-python",
   "name": "python",
   "nbconvert_exporter": "python",
   "pygments_lexer": "ipython3",
   "version": "3.9.7"
  },
  "orig_nbformat": 4
 },
 "nbformat": 4,
 "nbformat_minor": 2
}
