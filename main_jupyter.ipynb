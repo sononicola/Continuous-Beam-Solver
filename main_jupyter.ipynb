{
 "cells": [
  {
   "cell_type": "code",
   "execution_count": 10,
   "metadata": {},
   "outputs": [],
   "source": [
    "from solver import Span, Beam, Compute\n",
    "import numpy as np\n",
    "import sympy as sp\n",
    "import matplotlib.pyplot as plt"
   ]
  },
  {
   "cell_type": "code",
   "execution_count": 2,
   "metadata": {},
   "outputs": [],
   "source": [
    "J = (0.3 * 0.5**3)/12 # m4\n",
    "EJ =  31476*1000000*J/1000 # Mpa * m4 -> N*m2 -> kN*m2\n",
    "\n",
    "c_1 = Span(lenght = 3.00, ej = EJ)\n",
    "c_2 = Span(lenght = 4.50, ej = EJ)\n",
    "c_3 = Span(lenght = 4.00, ej = EJ)\n",
    "c_4 = Span(lenght = 5.00, ej = EJ)\n",
    "c_5 = Span(lenght = 6.15, ej = EJ)\n",
    "c_6 = Span(lenght = 4.00, ej = EJ)\n",
    "\n",
    "trave = Beam(spans = [c_1, c_2, c_3, c_4, c_5, c_6])"
   ]
  },
  {
   "cell_type": "code",
   "execution_count": 3,
   "metadata": {},
   "outputs": [
    {
     "name": "stdout",
     "output_type": "stream",
     "text": [
      "trave.spans_lenght() = [3.0, 4.5, 4.0, 5.0, 6.15, 4.0]\n",
      "trave.spans_total_lenght() = 26.65\n",
      "trave.spans_cum_lenght() = array([ 0.  ,  3.  ,  7.5 , 11.5 , 16.5 , 22.65, 26.65])\n",
      "trave.spans_ej() = [98362.49999999999, 98362.49999999999, 98362.49999999999, 98362.49999999999, 98362.49999999999, 98362.49999999999]\n",
      "trave.spans_q_max() = [0.0, 0.0, 0.0, 0.0, 0.0, 0.0]\n",
      "trave.spans_q_min() = [0.0, 0.0, 0.0, 0.0, 0.0, 0.0]\n"
     ]
    }
   ],
   "source": [
    "print(f\"{trave.spans_lenght() = }\")\n",
    "print(f\"{trave.spans_total_lenght() = }\")\n",
    "print(f\"{trave.spans_cum_lenght() = }\")\n",
    "print(f\"{trave.spans_ej() = }\")\n",
    "print(f\"{trave.spans_q_max() = }\")\n",
    "print(f\"{trave.spans_q_min() = }\")\n"
   ]
  },
  {
   "cell_type": "code",
   "execution_count": 8,
   "metadata": {},
   "outputs": [],
   "source": [
    "J = (0.3 * 0.5**3)/12 # m4\n",
    "EJ =  31476*1000000*J/1000 # Mpa * m4 -> N*m2 -> kN*m2\n",
    "\n",
    "c_1 = Span(lenght = 3.00, ej = EJ)\n",
    "c_2 = Span(lenght = 4.50, ej = EJ)\n",
    "c_3 = Span(lenght = 4.00, ej = EJ)\n",
    "c_4 = Span(lenght = 5.00, ej = EJ)\n",
    "c_5 = Span(lenght = 6.15, ej = EJ)\n",
    "c_6 = Span(lenght = 4.00, ej = EJ)\n",
    "\n",
    "trave = Beam(spans = [c_1, c_2, c_3, c_4, c_5, c_6], supports='incastre-right')\n",
    "\n",
    "run = Compute(trave)\n",
    "\n",
    "a = run.bending_moment_span_Q(1)"
   ]
  },
  {
   "cell_type": "code",
   "execution_count": 96,
   "metadata": {},
   "outputs": [],
   "source": [
    "x = run.generate_expanded_x_solutions()\n",
    "r = run.generate_R_solutions()\n",
    "cum_lenghts = trave.spans_cum_lenght()\n",
    "nCampate = 6\n",
    "span_Q = 0\n",
    "s = sp.Symbol('s')\n",
    "I = np.identity(nCampate)\n",
    "m_i = [\n",
    "                    ((-x[span_Q][n_span] - r[span_Q][n_span] * (s-cum_lenghts[n_span])) - ((I[span_Q,n_span]*(s-cum_lenghts[span_Q])**2)/2)) \\\n",
    "                    * (sp.Heaviside(s-cum_lenghts[n_span]) - sp.Heaviside(s-cum_lenghts[n_span+1])) \\\n",
    "                for n_span in range(nCampate)\n",
    "            ]"
   ]
  },
  {
   "cell_type": "code",
   "execution_count": 54,
   "metadata": {},
   "outputs": [
    {
     "data": {
      "text/latex": [
       "$\\displaystyle \\left[\\begin{matrix}0\\\\-0.491338912574569\\\\0.137796375248564\\\\-0.0328783181600082\\\\0.00812484517717799\\\\-0.00273048075626473\\\\0.00136524037813237\\end{matrix}\\right]$"
      ],
      "text/plain": [
       "Matrix([\n",
       "[                   0],\n",
       "[  -0.491338912574569],\n",
       "[   0.137796375248564],\n",
       "[ -0.0328783181600082],\n",
       "[ 0.00812484517717799],\n",
       "[-0.00273048075626473],\n",
       "[ 0.00136524037813237]])"
      ]
     },
     "execution_count": 54,
     "metadata": {},
     "output_type": "execute_result"
    }
   ],
   "source": [
    "- x[0]"
   ]
  },
  {
   "cell_type": "code",
   "execution_count": 55,
   "metadata": {},
   "outputs": [
    {
     "data": {
      "text/latex": [
       "$\\displaystyle \\left[\\begin{matrix}1.33622036247514\\\\0.139807841738474\\\\-0.0426686733521432\\\\0.00820063266743724\\\\-0.00176509364771426\\\\0.00102393028359927\\end{matrix}\\right]$"
      ],
      "text/plain": [
       "Matrix([\n",
       "[    1.33622036247514],\n",
       "[   0.139807841738474],\n",
       "[ -0.0426686733521432],\n",
       "[ 0.00820063266743724],\n",
       "[-0.00176509364771426],\n",
       "[ 0.00102393028359927]])"
      ]
     },
     "execution_count": 55,
     "metadata": {},
     "output_type": "execute_result"
    }
   ],
   "source": [
    "- r[0]"
   ]
  },
  {
   "cell_type": "code",
   "execution_count": 82,
   "metadata": {},
   "outputs": [
    {
     "data": {
      "image/png": "[encoded data removed]",
      "text/plain": [
       "<Figure size 432x288 with 1 Axes>"
      ]
     },
     "metadata": {
      "needs_background": "light"
     },
     "output_type": "display_data"
    },
    {
     "data": {
      "text/plain": [
       "<sympy.plotting.plot.Plot at 0x1f61fab74c0>"
      ]
     },
     "execution_count": 82,
     "metadata": {},
     "output_type": "execute_result"
    }
   ],
   "source": [
    "sp.plot(s,-np.sum(m_i,axis=0))"
   ]
  },
  {
   "cell_type": "code",
   "execution_count": 97,
   "metadata": {},
   "outputs": [
    {
     "data": {
      "text/plain": [
       "[<matplotlib.lines.Line2D at 0x1f621707d00>]"
      ]
     },
     "execution_count": 97,
     "metadata": {},
     "output_type": "execute_result"
    },
    {
     "data": {
      "image/png": "[encoded data removed]",
      "text/plain": [
       "<Figure size 432x288 with 1 Axes>"
      ]
     },
     "metadata": {
      "needs_background": "light"
     },
     "output_type": "display_data"
    }
   ],
   "source": [
    "m_i_lambdify = sp.lambdify(s,-np.sum(m_i,axis=0))\n",
    "\n",
    "s_func = np.linspace(0, 26.5, 1000)\n",
    "\n",
    "m = m_i_lambdify(s_func)\n",
    "plt.plot(m)"
   ]
  },
  {
   "cell_type": "code",
   "execution_count": 92,
   "metadata": {},
   "outputs": [],
   "source": [
    "# np.savetxt('prova.txt',np.array([s_func, m_i_lambdify(s_func)]).transpose())"
   ]
  },
  {
   "cell_type": "markdown",
   "metadata": {},
   "source": []
  },
  {
   "cell_type": "code",
   "execution_count": null,
   "metadata": {},
   "outputs": [
    {
     "name": "stdout",
     "output_type": "stream",
     "text": [
      "2\n",
      "6\n",
      "7.6\n",
      "[1, 5, 1.5]\n",
      "[2, 6, 7.6]\n",
      "[0.0, 0.0, 0.0]\n",
      "[0.0, 0.0, 0.0]\n"
     ]
    }
   ],
   "source": [
    "x1 = Span(1,2)\n",
    "x2 = Span(5,6)\n",
    "x3 = Span(1.5, 7.6)\n",
    "beam = Beam([x1,x2,x3])\n",
    "\n",
    "for span in beam.spans: \n",
    "    print(span.ej)\n",
    "\n",
    "print(beam.spans_lenght())\n",
    "print(beam.spans_ej())\n",
    "print(beam.spans_q_max())\n",
    "print(beam.spans_q_min())\n"
   ]
  },
  {
   "cell_type": "code",
   "execution_count": 103,
   "metadata": {},
   "outputs": [
    {
     "name": "stdout",
     "output_type": "stream",
     "text": [
      "[1, 2, 3, 8]\n",
      "[1, 2, 4, 6]\n"
     ]
    }
   ],
   "source": [
    "list_of_xy_lists = [[[1,2,3,8],[1,2,4,6]]]\n",
    "for xy in list_of_xy_lists:\n",
    "    x,y = xy[0] ,xy[1]\n",
    "    print(x)\n",
    "    print(y)"
   ]
  },
  {
   "cell_type": "code",
   "execution_count": 140,
   "metadata": {},
   "outputs": [
    {
     "data": {
      "text/plain": [
       "[<matplotlib.lines.Line2D at 0x1f621ade850>,\n",
       " <matplotlib.lines.Line2D at 0x1f621ade8b0>]"
      ]
     },
     "execution_count": 140,
     "metadata": {},
     "output_type": "execute_result"
    },
    {
     "data": {
      "image/png": "[encoded data removed]",
      "text/plain": [
       "<Figure size 432x288 with 1 Axes>"
      ]
     },
     "metadata": {
      "needs_background": "light"
     },
     "output_type": "display_data"
    }
   ],
   "source": [
    "\n",
    "plt.plot([1,2,3], [9,3,3],[3,6,6])"
   ]
  },
  {
   "cell_type": "code",
   "execution_count": 122,
   "metadata": {},
   "outputs": [
    {
     "name": "stdout",
     "output_type": "stream",
     "text": [
      "None\n"
     ]
    }
   ],
   "source": [
    "a = [1].append(a)\n",
    "print(a)"
   ]
  },
  {
   "cell_type": "code",
   "execution_count": 126,
   "metadata": {},
   "outputs": [
    {
     "name": "stdout",
     "output_type": "stream",
     "text": [
      "None\n"
     ]
    }
   ],
   "source": [
    "print([].extend([\"2\",3]))"
   ]
  },
  {
   "cell_type": "code",
   "execution_count": 127,
   "metadata": {},
   "outputs": [],
   "source": [
    "a = []"
   ]
  },
  {
   "cell_type": "code",
   "execution_count": 128,
   "metadata": {},
   "outputs": [],
   "source": [
    "a.append(3)"
   ]
  },
  {
   "cell_type": "code",
   "execution_count": 129,
   "metadata": {},
   "outputs": [
    {
     "data": {
      "text/plain": [
       "[3]"
      ]
     },
     "execution_count": 129,
     "metadata": {},
     "output_type": "execute_result"
    }
   ],
   "source": [
    "a"
   ]
  },
  {
   "cell_type": "code",
   "execution_count": 133,
   "metadata": {},
   "outputs": [],
   "source": [
    "a.extend([1,2])"
   ]
  },
  {
   "cell_type": "code",
   "execution_count": 134,
   "metadata": {},
   "outputs": [
    {
     "data": {
      "text/plain": [
       "[3, [1, 2], 1, 2]"
      ]
     },
     "execution_count": 134,
     "metadata": {},
     "output_type": "execute_result"
    }
   ],
   "source": [
    "a"
   ]
  },
  {
   "cell_type": "code",
   "execution_count": null,
   "metadata": {},
   "outputs": [],
   "source": []
  }
 ],
 "metadata": {
  "interpreter": {
   "hash": "e9dfbbb36e3b3679682f891148ee1981976897dd5367a65a9c1bc658de856a84"
  },
  "kernelspec": {
   "display_name": "Python 3.9.7 ('st')",
   "language": "python",
   "name": "python3"
  },
  "language_info": {
   "codemirror_mode": {
    "name": "ipython",
    "version": 3
   },
   "file_extension": ".py",
   "mimetype": "text/x-python",
   "name": "python",
   "nbconvert_exporter": "python",
   "pygments_lexer": "ipython3",
   "version": "3.9.7"
  },
  "orig_nbformat": 4
 },
 "nbformat": 4,
 "nbformat_minor": 2
}
