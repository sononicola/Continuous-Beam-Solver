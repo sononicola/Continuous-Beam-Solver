{
 "cells": [
  {
   "cell_type": "code",
   "execution_count": 1,
   "metadata": {},
   "outputs": [],
   "source": [
    "#from solver import Span, Beam, Solver, BendingMoment\n",
    "import numpy as np\n",
    "import sympy as sp\n",
    "import matplotlib.pyplot as plt"
   ]
  },
  {
   "cell_type": "code",
   "execution_count": 26,
   "metadata": {},
   "outputs": [
    {
     "data": {
      "text/latex": [
       "$\\displaystyle 0$"
      ],
      "text/plain": [
       "0"
      ]
     },
     "execution_count": 26,
     "metadata": {},
     "output_type": "execute_result"
    }
   ],
   "source": [
    "x[span_Q][n_span]"
   ]
  },
  {
   "cell_type": "code",
   "execution_count": 14,
   "metadata": {},
   "outputs": [
    {
     "data": {
      "text/latex": [
       "$\\displaystyle 1.5$"
      ],
      "text/plain": [
       "1.50000000000000"
      ]
     },
     "execution_count": 14,
     "metadata": {},
     "output_type": "execute_result"
    }
   ],
   "source": [
    "r[span_Q][n_span]"
   ]
  },
  {
   "cell_type": "code",
   "execution_count": null,
   "metadata": {},
   "outputs": [],
   "source": []
  },
  {
   "cell_type": "code",
   "execution_count": 70,
   "metadata": {},
   "outputs": [
    {
     "data": {
      "text/latex": [
       "$\\displaystyle \\left[\\begin{matrix}0\\end{matrix}\\right]$"
      ],
      "text/plain": [
       "Matrix([[0]])"
      ]
     },
     "execution_count": 70,
     "metadata": {},
     "output_type": "execute_result"
    }
   ],
   "source": [
    "x[0]"
   ]
  },
  {
   "cell_type": "code",
   "execution_count": 73,
   "metadata": {},
   "outputs": [
    {
     "data": {
      "text/plain": [
       "[Matrix([[0.5]])]"
      ]
     },
     "execution_count": 73,
     "metadata": {},
     "output_type": "execute_result"
    }
   ],
   "source": [
    "nCampate = 1\n",
    "lenghts = [1.]\n",
    "x =[sp.zeros(1,2),sp.zeros(1,2)]\n",
    "list_of_R = [] # ---- oppure mettere - X + L/2: \n",
    "for n_span in range(nCampate):\n",
    "    mat1 = sp.Matrix([  (x[n_span][i+1] - x[n_span][i])/lenghts[i] for i in range(0,nCampate)  ])\n",
    "    mat2 = sp.Matrix(lenghts[n_span]/2 * np.identity(nCampate)[n_span])\n",
    "    list_of_R.append(mat2)\n",
    "list_of_R"
   ]
  },
  {
   "cell_type": "code",
   "execution_count": 78,
   "metadata": {},
   "outputs": [
    {
     "data": {
      "text/latex": [
       "$\\displaystyle \\left[\\begin{matrix}\\end{matrix}\\right]$"
      ],
      "text/plain": [
       "Matrix(0, 0, [])"
      ]
     },
     "execution_count": 78,
     "metadata": {},
     "output_type": "execute_result"
    }
   ],
   "source": [
    "sp.Matrix([])"
   ]
  },
  {
   "cell_type": "code",
   "execution_count": 50,
   "metadata": {},
   "outputs": [],
   "source": [
    "I = np.identity(1)\n",
    "span_Q = 0\n",
    "n_span = 0\n",
    "cum_lenghts=[0., 1.]\n",
    "s = sp.Symbol('s')\n",
    "x = [sp.zeros(1,1),sp.zeros(1,1)]\n",
    "r = [sp.Matrix([[1.5]])]\n",
    "\n",
    "m_i = ((x[span_Q][n_span] + r[span_Q][n_span] * (s-cum_lenghts[n_span])) - ((I[span_Q,n_span]*(s-cum_lenghts[span_Q])**2)/2)) \\\n",
    "                    * (sp.Heaviside(s-cum_lenghts[n_span]) - sp.Heaviside(s-cum_lenghts[n_span+1]))\n",
    "m_i_lambdify = sp.lambdify(s,np.sum(m_i,axis=0))"
   ]
  },
  {
   "cell_type": "code",
   "execution_count": 25,
   "metadata": {},
   "outputs": [
    {
     "data": {
      "text/plain": [
       "[<matplotlib.lines.Line2D at 0x1b722dfbf10>]"
      ]
     },
     "execution_count": 25,
     "metadata": {},
     "output_type": "execute_result"
    },
    {
     "data": {
      "image/png": "[encoded data removed]",
      "text/plain": [
       "<Figure size 432x288 with 1 Axes>"
      ]
     },
     "metadata": {
      "needs_background": "light"
     },
     "output_type": "display_data"
    }
   ],
   "source": [
    "plt.plot(m_i_lambdify(np.arange(0,1,0.01)))"
   ]
  },
  {
   "cell_type": "code",
   "execution_count": null,
   "metadata": {},
   "outputs": [],
   "source": []
  },
  {
   "cell_type": "code",
   "execution_count": 2,
   "metadata": {},
   "outputs": [
    {
     "ename": "NameError",
     "evalue": "name 'Span' is not defined",
     "output_type": "error",
     "traceback": [
      "\u001b[1;31m---------------------------------------------------------------------------\u001b[0m",
      "\u001b[1;31mNameError\u001b[0m                                 Traceback (most recent call last)",
      "\u001b[1;32m~\\AppData\\Local\\Temp/ipykernel_1932/1443785856.py\u001b[0m in \u001b[0;36m<module>\u001b[1;34m\u001b[0m\n\u001b[0;32m      2\u001b[0m \u001b[0mEJ\u001b[0m \u001b[1;33m=\u001b[0m  \u001b[1;36m31476\u001b[0m\u001b[1;33m*\u001b[0m\u001b[1;36m1000000\u001b[0m\u001b[1;33m*\u001b[0m\u001b[0mJ\u001b[0m\u001b[1;33m/\u001b[0m\u001b[1;36m1000\u001b[0m \u001b[1;31m# Mpa * m4 -> N*m2 -> kN*m2\u001b[0m\u001b[1;33m\u001b[0m\u001b[1;33m\u001b[0m\u001b[0m\n\u001b[0;32m      3\u001b[0m \u001b[1;33m\u001b[0m\u001b[0m\n\u001b[1;32m----> 4\u001b[1;33m \u001b[0mc_1\u001b[0m \u001b[1;33m=\u001b[0m \u001b[0mSpan\u001b[0m\u001b[1;33m(\u001b[0m\u001b[0mlenght\u001b[0m \u001b[1;33m=\u001b[0m \u001b[1;36m3.00\u001b[0m\u001b[1;33m,\u001b[0m \u001b[0mej\u001b[0m \u001b[1;33m=\u001b[0m \u001b[0mEJ\u001b[0m\u001b[1;33m)\u001b[0m\u001b[1;33m\u001b[0m\u001b[1;33m\u001b[0m\u001b[0m\n\u001b[0m\u001b[0;32m      5\u001b[0m \u001b[0mc_2\u001b[0m \u001b[1;33m=\u001b[0m \u001b[0mSpan\u001b[0m\u001b[1;33m(\u001b[0m\u001b[0mlenght\u001b[0m \u001b[1;33m=\u001b[0m \u001b[1;36m4.50\u001b[0m\u001b[1;33m,\u001b[0m \u001b[0mej\u001b[0m \u001b[1;33m=\u001b[0m \u001b[0mEJ\u001b[0m\u001b[1;33m)\u001b[0m\u001b[1;33m\u001b[0m\u001b[1;33m\u001b[0m\u001b[0m\n\u001b[0;32m      6\u001b[0m \u001b[0mc_3\u001b[0m \u001b[1;33m=\u001b[0m \u001b[0mSpan\u001b[0m\u001b[1;33m(\u001b[0m\u001b[0mlenght\u001b[0m \u001b[1;33m=\u001b[0m \u001b[1;36m4.00\u001b[0m\u001b[1;33m,\u001b[0m \u001b[0mej\u001b[0m \u001b[1;33m=\u001b[0m \u001b[0mEJ\u001b[0m\u001b[1;33m)\u001b[0m\u001b[1;33m\u001b[0m\u001b[1;33m\u001b[0m\u001b[0m\n",
      "\u001b[1;31mNameError\u001b[0m: name 'Span' is not defined"
     ]
    }
   ],
   "source": [
    "J = (0.3 * 0.5**3)/12 # m4\n",
    "EJ =  31476*1000000*J/1000 # Mpa * m4 -> N*m2 -> kN*m2\n",
    "\n",
    "c_1 = Span(lenght = 3.00, ej = EJ)\n",
    "c_2 = Span(lenght = 4.50, ej = EJ)\n",
    "c_3 = Span(lenght = 4.00, ej = EJ)\n",
    "c_4 = Span(lenght = 5.00, ej = EJ)\n",
    "c_5 = Span(lenght = 6.15, ej = EJ)\n",
    "c_6 = Span(lenght = 4.00, ej = EJ)\n",
    "\n",
    "trave = Beam(spans = [c_1, c_2, c_3, c_4, c_5, c_6])"
   ]
  },
  {
   "cell_type": "code",
   "execution_count": 3,
   "metadata": {},
   "outputs": [
    {
     "name": "stdout",
     "output_type": "stream",
     "text": [
      "trave.spans_lenght() = [3.0, 4.5, 4.0, 5.0, 6.15, 4.0]\n",
      "trave.spans_total_lenght() = 26.65\n",
      "trave.spans_cum_lenght() = array([ 0.  ,  3.  ,  7.5 , 11.5 , 16.5 , 22.65, 26.65])\n",
      "trave.spans_ej() = [98362.49999999999, 98362.49999999999, 98362.49999999999, 98362.49999999999, 98362.49999999999, 98362.49999999999]\n",
      "trave.spans_q_max() = [0.0, 0.0, 0.0, 0.0, 0.0, 0.0]\n",
      "trave.spans_q_min() = [0.0, 0.0, 0.0, 0.0, 0.0, 0.0]\n"
     ]
    }
   ],
   "source": [
    "print(f\"{trave.spans_lenght() = }\")\n",
    "print(f\"{trave.spans_total_lenght() = }\")\n",
    "print(f\"{trave.spans_cum_lenght() = }\")\n",
    "print(f\"{trave.spans_ej() = }\")\n",
    "print(f\"{trave.spans_q_max() = }\")\n",
    "print(f\"{trave.spans_q_min() = }\")\n"
   ]
  },
  {
   "cell_type": "code",
   "execution_count": 8,
   "metadata": {},
   "outputs": [],
   "source": [
    "J = (0.3 * 0.5**3)/12 # m4\n",
    "EJ =  31476*1000000*J/1000 # Mpa * m4 -> N*m2 -> kN*m2\n",
    "\n",
    "c_1 = Span(lenght = 3.00, ej = EJ)\n",
    "c_2 = Span(lenght = 4.50, ej = EJ)\n",
    "c_3 = Span(lenght = 4.00, ej = EJ)\n",
    "c_4 = Span(lenght = 5.00, ej = EJ)\n",
    "c_5 = Span(lenght = 6.15, ej = EJ)\n",
    "c_6 = Span(lenght = 4.00, ej = EJ)\n",
    "\n",
    "trave = Beam(spans = [c_1, c_2, c_3, c_4, c_5, c_6], supports='incastre-right')\n",
    "\n",
    "run = Compute(trave)\n",
    "\n",
    "a = run.bending_moment_span_Q(1)"
   ]
  },
  {
   "cell_type": "code",
   "execution_count": 96,
   "metadata": {},
   "outputs": [],
   "source": [
    "x = run.generate_expanded_x_solutions()\n",
    "r = run.generate_R_solutions()\n",
    "cum_lenghts = trave.spans_cum_lenght()\n",
    "nCampate = 6\n",
    "span_Q = 0\n",
    "s = sp.Symbol('s')\n",
    "I = np.identity(nCampate)\n",
    "m_i = [\n",
    "                    ((-x[span_Q][n_span] - r[span_Q][n_span] * (s-cum_lenghts[n_span])) - ((I[span_Q,n_span]*(s-cum_lenghts[span_Q])**2)/2)) \\\n",
    "                    * (sp.Heaviside(s-cum_lenghts[n_span]) - sp.Heaviside(s-cum_lenghts[n_span+1])) \\\n",
    "                for n_span in range(nCampate)\n",
    "            ]"
   ]
  },
  {
   "cell_type": "code",
   "execution_count": 54,
   "metadata": {},
   "outputs": [
    {
     "data": {
      "text/latex": [
       "$\\displaystyle \\left[\\begin{matrix}0\\\\-0.491338912574569\\\\0.137796375248564\\\\-0.0328783181600082\\\\0.00812484517717799\\\\-0.00273048075626473\\\\0.00136524037813237\\end{matrix}\\right]$"
      ],
      "text/plain": [
       "Matrix([\n",
       "[                   0],\n",
       "[  -0.491338912574569],\n",
       "[   0.137796375248564],\n",
       "[ -0.0328783181600082],\n",
       "[ 0.00812484517717799],\n",
       "[-0.00273048075626473],\n",
       "[ 0.00136524037813237]])"
      ]
     },
     "execution_count": 54,
     "metadata": {},
     "output_type": "execute_result"
    }
   ],
   "source": [
    "- x[0]"
   ]
  },
  {
   "cell_type": "code",
   "execution_count": 55,
   "metadata": {},
   "outputs": [
    {
     "data": {
      "text/latex": [
       "$\\displaystyle \\left[\\begin{matrix}1.33622036247514\\\\0.139807841738474\\\\-0.0426686733521432\\\\0.00820063266743724\\\\-0.00176509364771426\\\\0.00102393028359927\\end{matrix}\\right]$"
      ],
      "text/plain": [
       "Matrix([\n",
       "[    1.33622036247514],\n",
       "[   0.139807841738474],\n",
       "[ -0.0426686733521432],\n",
       "[ 0.00820063266743724],\n",
       "[-0.00176509364771426],\n",
       "[ 0.00102393028359927]])"
      ]
     },
     "execution_count": 55,
     "metadata": {},
     "output_type": "execute_result"
    }
   ],
   "source": [
    "- r[0]"
   ]
  },
  {
   "cell_type": "code",
   "execution_count": 82,
   "metadata": {},
   "outputs": [
    {
     "data": {
      "image/png": "[encoded data removed]",
      "text/plain": [
       "<Figure size 432x288 with 1 Axes>"
      ]
     },
     "metadata": {
      "needs_background": "light"
     },
     "output_type": "display_data"
    },
    {
     "data": {
      "text/plain": [
       "<sympy.plotting.plot.Plot at 0x1f61fab74c0>"
      ]
     },
     "execution_count": 82,
     "metadata": {},
     "output_type": "execute_result"
    }
   ],
   "source": [
    "sp.plot(s,-np.sum(m_i,axis=0))"
   ]
  },
  {
   "cell_type": "code",
   "execution_count": 97,
   "metadata": {},
   "outputs": [
    {
     "data": {
      "text/plain": [
       "[<matplotlib.lines.Line2D at 0x1f621707d00>]"
      ]
     },
     "execution_count": 97,
     "metadata": {},
     "output_type": "execute_result"
    },
    {
     "data": {
      "image/png": "[encoded data removed]",
      "text/plain": [
       "<Figure size 432x288 with 1 Axes>"
      ]
     },
     "metadata": {
      "needs_background": "light"
     },
     "output_type": "display_data"
    }
   ],
   "source": [
    "m_i_lambdify = sp.lambdify(s,-np.sum(m_i,axis=0))\n",
    "\n",
    "s_func = np.linspace(0, 26.5, 1000)\n",
    "\n",
    "m = m_i_lambdify(s_func)\n",
    "plt.plot(m)"
   ]
  },
  {
   "cell_type": "code",
   "execution_count": 92,
   "metadata": {},
   "outputs": [],
   "source": [
    "# np.savetxt('prova.txt',np.array([s_func, m_i_lambdify(s_func)]).transpose())"
   ]
  },
  {
   "cell_type": "markdown",
   "metadata": {},
   "source": []
  },
  {
   "cell_type": "code",
   "execution_count": null,
   "metadata": {},
   "outputs": [
    {
     "name": "stdout",
     "output_type": "stream",
     "text": [
      "2\n",
      "6\n",
      "7.6\n",
      "[1, 5, 1.5]\n",
      "[2, 6, 7.6]\n",
      "[0.0, 0.0, 0.0]\n",
      "[0.0, 0.0, 0.0]\n"
     ]
    }
   ],
   "source": [
    "x1 = Span(1,2)\n",
    "x2 = Span(5,6)\n",
    "x3 = Span(1.5, 7.6)\n",
    "beam = Beam([x1,x2,x3])\n",
    "\n",
    "for span in beam.spans: \n",
    "    print(span.ej)\n",
    "\n",
    "print(beam.spans_lenght())\n",
    "print(beam.spans_ej())\n",
    "print(beam.spans_q_max())\n",
    "print(beam.spans_q_min())\n"
   ]
  },
  {
   "cell_type": "code",
   "execution_count": 103,
   "metadata": {},
   "outputs": [
    {
     "name": "stdout",
     "output_type": "stream",
     "text": [
      "[1, 2, 3, 8]\n",
      "[1, 2, 4, 6]\n"
     ]
    }
   ],
   "source": [
    "list_of_xy_lists = [[[1,2,3,8],[1,2,4,6]]]\n",
    "for xy in list_of_xy_lists:\n",
    "    x,y = xy[0] ,xy[1]\n",
    "    print(x)\n",
    "    print(y)"
   ]
  },
  {
   "cell_type": "code",
   "execution_count": 140,
   "metadata": {},
   "outputs": [
    {
     "data": {
      "text/plain": [
       "[<matplotlib.lines.Line2D at 0x1f621ade850>,\n",
       " <matplotlib.lines.Line2D at 0x1f621ade8b0>]"
      ]
     },
     "execution_count": 140,
     "metadata": {},
     "output_type": "execute_result"
    },
    {
     "data": {
      "image/png": "[encoded data removed]",
      "text/plain": [
       "<Figure size 432x288 with 1 Axes>"
      ]
     },
     "metadata": {
      "needs_background": "light"
     },
     "output_type": "display_data"
    }
   ],
   "source": [
    "\n",
    "plt.plot([1,2,3], [9,3,3],[3,6,6])"
   ]
  },
  {
   "cell_type": "code",
   "execution_count": 122,
   "metadata": {},
   "outputs": [
    {
     "name": "stdout",
     "output_type": "stream",
     "text": [
      "None\n"
     ]
    }
   ],
   "source": [
    "a = [1].append(a)\n",
    "print(a)"
   ]
  },
  {
   "cell_type": "code",
   "execution_count": 126,
   "metadata": {},
   "outputs": [
    {
     "name": "stdout",
     "output_type": "stream",
     "text": [
      "None\n"
     ]
    }
   ],
   "source": [
    "print([].extend([\"2\",3]))"
   ]
  },
  {
   "cell_type": "code",
   "execution_count": 127,
   "metadata": {},
   "outputs": [],
   "source": [
    "a = []"
   ]
  },
  {
   "cell_type": "code",
   "execution_count": 128,
   "metadata": {},
   "outputs": [],
   "source": [
    "a.append(3)"
   ]
  },
  {
   "cell_type": "code",
   "execution_count": 129,
   "metadata": {},
   "outputs": [
    {
     "data": {
      "text/plain": [
       "[3]"
      ]
     },
     "execution_count": 129,
     "metadata": {},
     "output_type": "execute_result"
    }
   ],
   "source": [
    "a"
   ]
  },
  {
   "cell_type": "code",
   "execution_count": 133,
   "metadata": {},
   "outputs": [],
   "source": [
    "a.extend([1,2])"
   ]
  },
  {
   "cell_type": "code",
   "execution_count": 134,
   "metadata": {},
   "outputs": [
    {
     "data": {
      "text/plain": [
       "[3, [1, 2], 1, 2]"
      ]
     },
     "execution_count": 134,
     "metadata": {},
     "output_type": "execute_result"
    }
   ],
   "source": [
    "a"
   ]
  },
  {
   "cell_type": "code",
   "execution_count": 114,
   "metadata": {},
   "outputs": [
    {
     "data": {
      "text/plain": [
       "array([1], dtype=int64)"
      ]
     },
     "execution_count": 114,
     "metadata": {},
     "output_type": "execute_result"
    }
   ],
   "source": [
    "a = [1,-2,3,4]\n",
    "b = [2,-1,5,6]\n",
    "\n",
    "a = np.array(a)\n",
    "np.where(a==-2)[0][0]"
   ]
  },
  {
   "cell_type": "code",
   "execution_count": 89,
   "metadata": {},
   "outputs": [
    {
     "data": {
      "text/plain": [
       "array([2., 6., 5., 6.])"
      ]
     },
     "execution_count": 89,
     "metadata": {},
     "output_type": "execute_result"
    }
   ],
   "source": [
    "Mmax = np.zeros(len(a))\n",
    "Mmin = np.zeros(len(a))\n",
    "for i in range (0, len(a)):\n",
    "    Mmax[i] = max(a[i], b[i])\n",
    "Mmax"
   ]
  },
  {
   "cell_type": "code",
   "execution_count": 97,
   "metadata": {},
   "outputs": [
    {
     "data": {
      "text/plain": [
       "array([ 0, -2,  0,  0])"
      ]
     },
     "execution_count": 97,
     "metadata": {},
     "output_type": "execute_result"
    }
   ],
   "source": [
    "np.min([a,b], axis=0, initial=0)"
   ]
  },
  {
   "cell_type": "code",
   "execution_count": 125,
   "metadata": {},
   "outputs": [],
   "source": [
    "import pandas as pd\n"
   ]
  },
  {
   "cell_type": "code",
   "execution_count": null,
   "metadata": {},
   "outputs": [],
   "source": []
  },
  {
   "cell_type": "code",
   "execution_count": 119,
   "metadata": {},
   "outputs": [
    {
     "data": {
      "text/plain": [
       "['a_1', 'a_2', 'a_3', 'a_4', 'a_5', 'a_6', 'a_7']"
      ]
     },
     "execution_count": 119,
     "metadata": {},
     "output_type": "execute_result"
    }
   ],
   "source": [
    "n = 6\n",
    "string1 = \"a\"\n",
    "[f\"{string1}_{i}\" for i in range(1,n+2)]\n"
   ]
  },
  {
   "cell_type": "code",
   "execution_count": 158,
   "metadata": {},
   "outputs": [
    {
     "data": {
      "text/html": [
       "<div>\n",
       "<style scoped>\n",
       "    .dataframe tbody tr th:only-of-type {\n",
       "        vertical-align: middle;\n",
       "    }\n",
       "\n",
       "    .dataframe tbody tr th {\n",
       "        vertical-align: top;\n",
       "    }\n",
       "\n",
       "    .dataframe thead th {\n",
       "        text-align: right;\n",
       "    }\n",
       "</style>\n",
       "<table border=\"1\" class=\"dataframe\">\n",
       "  <thead>\n",
       "    <tr style=\"text-align: right;\">\n",
       "      <th></th>\n",
       "      <th>A1</th>\n",
       "      <th>C1</th>\n",
       "      <th>A2</th>\n",
       "      <th>C2</th>\n",
       "      <th>A3</th>\n",
       "      <th>C3</th>\n",
       "      <th>A4</th>\n",
       "    </tr>\n",
       "  </thead>\n",
       "  <tbody>\n",
       "    <tr>\n",
       "      <th>M_pos</th>\n",
       "      <td>10</td>\n",
       "      <td>2</td>\n",
       "      <td>3</td>\n",
       "      <td>4</td>\n",
       "      <td>5</td>\n",
       "      <td>6</td>\n",
       "      <td>7</td>\n",
       "    </tr>\n",
       "  </tbody>\n",
       "</table>\n",
       "</div>"
      ],
      "text/plain": [
       "       A1  C1  A2  C2  A3  C3  A4\n",
       "M_pos  10   2   3   4   5   6   7"
      ]
     },
     "execution_count": 158,
     "metadata": {},
     "output_type": "execute_result"
    }
   ],
   "source": [
    "header = ['A1', 'C1', 'A2', 'C2', 'A3', 'C3', 'A4']\n",
    "m_pos = [10,2,3,4,5,6,7]\n",
    "\n",
    "df = pd.DataFrame([m_pos], columns=header, index=['M_pos'])\n",
    "df"
   ]
  },
  {
   "cell_type": "code",
   "execution_count": 170,
   "metadata": {},
   "outputs": [
    {
     "data": {
      "text/plain": [
       "'\\\\begin{table}[H]\\n\\\\begin{tabular}{lSSSSSSS}\\n\\\\toprule\\n{} & {A1} & {C1} & {A2} & {C2} & {A3} & {C3} & {A4} \\\\\\\\\\n\\\\midrule\\nM_pos & 10 & 2 & 3 & 4 & 5 & 6 & 7 \\\\\\\\\\n\\\\bottomrule\\n\\\\end{tabular}\\n\\\\end{table}\\n'"
      ]
     },
     "execution_count": 170,
     "metadata": {},
     "output_type": "execute_result"
    }
   ],
   "source": [
    "df.style.to_latex(position='H', hrules=True, siunitx=True)"
   ]
  },
  {
   "cell_type": "code",
   "execution_count": 168,
   "metadata": {},
   "outputs": [
    {
     "name": "stdout",
     "output_type": "stream",
     "text": [
      "\u001b[1;31mSignature:\u001b[0m\n",
      "\u001b[0mdf\u001b[0m\u001b[1;33m.\u001b[0m\u001b[0mstyle\u001b[0m\u001b[1;33m.\u001b[0m\u001b[0mto_latex\u001b[0m\u001b[1;33m(\u001b[0m\u001b[1;33m\n",
      "\u001b[0m    \u001b[0mbuf\u001b[0m\u001b[1;33m:\u001b[0m \u001b[1;34m'FilePath | WriteBuffer[str] | None'\u001b[0m \u001b[1;33m=\u001b[0m \u001b[1;32mNone\u001b[0m\u001b[1;33m,\u001b[0m\u001b[1;33m\n",
      "\u001b[0m    \u001b[1;33m*\u001b[0m\u001b[1;33m,\u001b[0m\u001b[1;33m\n",
      "\u001b[0m    \u001b[0mcolumn_format\u001b[0m\u001b[1;33m:\u001b[0m \u001b[1;34m'str | None'\u001b[0m \u001b[1;33m=\u001b[0m \u001b[1;32mNone\u001b[0m\u001b[1;33m,\u001b[0m\u001b[1;33m\n",
      "\u001b[0m    \u001b[0mposition\u001b[0m\u001b[1;33m:\u001b[0m \u001b[1;34m'str | None'\u001b[0m \u001b[1;33m=\u001b[0m \u001b[1;32mNone\u001b[0m\u001b[1;33m,\u001b[0m\u001b[1;33m\n",
      "\u001b[0m    \u001b[0mposition_float\u001b[0m\u001b[1;33m:\u001b[0m \u001b[1;34m'str | None'\u001b[0m \u001b[1;33m=\u001b[0m \u001b[1;32mNone\u001b[0m\u001b[1;33m,\u001b[0m\u001b[1;33m\n",
      "\u001b[0m    \u001b[0mhrules\u001b[0m\u001b[1;33m:\u001b[0m \u001b[1;34m'bool | None'\u001b[0m \u001b[1;33m=\u001b[0m \u001b[1;32mNone\u001b[0m\u001b[1;33m,\u001b[0m\u001b[1;33m\n",
      "\u001b[0m    \u001b[0mclines\u001b[0m\u001b[1;33m:\u001b[0m \u001b[1;34m'str | None'\u001b[0m \u001b[1;33m=\u001b[0m \u001b[1;32mNone\u001b[0m\u001b[1;33m,\u001b[0m\u001b[1;33m\n",
      "\u001b[0m    \u001b[0mlabel\u001b[0m\u001b[1;33m:\u001b[0m \u001b[1;34m'str | None'\u001b[0m \u001b[1;33m=\u001b[0m \u001b[1;32mNone\u001b[0m\u001b[1;33m,\u001b[0m\u001b[1;33m\n",
      "\u001b[0m    \u001b[0mcaption\u001b[0m\u001b[1;33m:\u001b[0m \u001b[1;34m'str | tuple | None'\u001b[0m \u001b[1;33m=\u001b[0m \u001b[1;32mNone\u001b[0m\u001b[1;33m,\u001b[0m\u001b[1;33m\n",
      "\u001b[0m    \u001b[0msparse_index\u001b[0m\u001b[1;33m:\u001b[0m \u001b[1;34m'bool | None'\u001b[0m \u001b[1;33m=\u001b[0m \u001b[1;32mNone\u001b[0m\u001b[1;33m,\u001b[0m\u001b[1;33m\n",
      "\u001b[0m    \u001b[0msparse_columns\u001b[0m\u001b[1;33m:\u001b[0m \u001b[1;34m'bool | None'\u001b[0m \u001b[1;33m=\u001b[0m \u001b[1;32mNone\u001b[0m\u001b[1;33m,\u001b[0m\u001b[1;33m\n",
      "\u001b[0m    \u001b[0mmultirow_align\u001b[0m\u001b[1;33m:\u001b[0m \u001b[1;34m'str | None'\u001b[0m \u001b[1;33m=\u001b[0m \u001b[1;32mNone\u001b[0m\u001b[1;33m,\u001b[0m\u001b[1;33m\n",
      "\u001b[0m    \u001b[0mmulticol_align\u001b[0m\u001b[1;33m:\u001b[0m \u001b[1;34m'str | None'\u001b[0m \u001b[1;33m=\u001b[0m \u001b[1;32mNone\u001b[0m\u001b[1;33m,\u001b[0m\u001b[1;33m\n",
      "\u001b[0m    \u001b[0msiunitx\u001b[0m\u001b[1;33m:\u001b[0m \u001b[1;34m'bool'\u001b[0m \u001b[1;33m=\u001b[0m \u001b[1;32mFalse\u001b[0m\u001b[1;33m,\u001b[0m\u001b[1;33m\n",
      "\u001b[0m    \u001b[0menvironment\u001b[0m\u001b[1;33m:\u001b[0m \u001b[1;34m'str | None'\u001b[0m \u001b[1;33m=\u001b[0m \u001b[1;32mNone\u001b[0m\u001b[1;33m,\u001b[0m\u001b[1;33m\n",
      "\u001b[0m    \u001b[0mencoding\u001b[0m\u001b[1;33m:\u001b[0m \u001b[1;34m'str | None'\u001b[0m \u001b[1;33m=\u001b[0m \u001b[1;32mNone\u001b[0m\u001b[1;33m,\u001b[0m\u001b[1;33m\n",
      "\u001b[0m    \u001b[0mconvert_css\u001b[0m\u001b[1;33m:\u001b[0m \u001b[1;34m'bool'\u001b[0m \u001b[1;33m=\u001b[0m \u001b[1;32mFalse\u001b[0m\u001b[1;33m,\u001b[0m\u001b[1;33m\n",
      "\u001b[0m\u001b[1;33m)\u001b[0m\u001b[1;33m\u001b[0m\u001b[1;33m\u001b[0m\u001b[0m\n",
      "\u001b[1;31mDocstring:\u001b[0m\n",
      "Write Styler to a file, buffer or string in LaTeX format.\n",
      "\n",
      ".. versionadded:: 1.3.0\n",
      "\n",
      "Parameters\n",
      "----------\n",
      "buf : str, path object, file-like object, or None, default None\n",
      "    String, path object (implementing ``os.PathLike[str]``), or file-like\n",
      "    object implementing a string ``write()`` function. If None, the result is\n",
      "    returned as a string.\n",
      "column_format : str, optional\n",
      "    The LaTeX column specification placed in location:\n",
      "\n",
      "    \\\\begin{tabular}{<column_format>}\n",
      "\n",
      "    Defaults to 'l' for index and\n",
      "    non-numeric data columns, and, for numeric data columns,\n",
      "    to 'r' by default, or 'S' if ``siunitx`` is ``True``.\n",
      "position : str, optional\n",
      "    The LaTeX positional argument (e.g. 'h!') for tables, placed in location:\n",
      "\n",
      "    ``\\\\begin{table}[<position>]``.\n",
      "position_float : {\"centering\", \"raggedleft\", \"raggedright\"}, optional\n",
      "    The LaTeX float command placed in location:\n",
      "\n",
      "    \\\\begin{table}[<position>]\n",
      "\n",
      "    \\\\<position_float>\n",
      "\n",
      "    Cannot be used if ``environment`` is \"longtable\".\n",
      "hrules : bool\n",
      "    Set to `True` to add \\\\toprule, \\\\midrule and \\\\bottomrule from the\n",
      "    {booktabs} LaTeX package.\n",
      "    Defaults to ``pandas.options.styler.latex.hrules``, which is `False`.\n",
      "\n",
      "    .. versionchanged:: 1.4.0\n",
      "clines : str, optional\n",
      "    Use to control adding \\\\cline commands for the index labels separation.\n",
      "    Possible values are:\n",
      "\n",
      "      - `None`: no cline commands are added (default).\n",
      "      - `\"all;data\"`: a cline is added for every index value extending the\n",
      "        width of the table, including data entries.\n",
      "      - `\"all;index\"`: as above with lines extending only the width of the\n",
      "        index entries.\n",
      "      - `\"skip-last;data\"`: a cline is added for each index value except the\n",
      "        last level (which is never sparsified), extending the widtn of the\n",
      "        table.\n",
      "      - `\"skip-last;index\"`: as above with lines extending only the width of the\n",
      "        index entries.\n",
      "\n",
      "    .. versionadded:: 1.4.0\n",
      "label : str, optional\n",
      "    The LaTeX label included as: \\\\label{<label>}.\n",
      "    This is used with \\\\ref{<label>} in the main .tex file.\n",
      "caption : str, tuple, optional\n",
      "    If string, the LaTeX table caption included as: \\\\caption{<caption>}.\n",
      "    If tuple, i.e (\"full caption\", \"short caption\"), the caption included\n",
      "    as: \\\\caption[<caption[1]>]{<caption[0]>}.\n",
      "sparse_index : bool, optional\n",
      "    Whether to sparsify the display of a hierarchical index. Setting to False\n",
      "    will display each explicit level element in a hierarchical key for each row.\n",
      "    Defaults to ``pandas.options.styler.sparse.index``, which is `True`.\n",
      "sparse_columns : bool, optional\n",
      "    Whether to sparsify the display of a hierarchical index. Setting to False\n",
      "    will display each explicit level element in a hierarchical key for each\n",
      "    column. Defaults to ``pandas.options.styler.sparse.columns``, which\n",
      "    is `True`.\n",
      "multirow_align : {\"c\", \"t\", \"b\", \"naive\"}, optional\n",
      "    If sparsifying hierarchical MultiIndexes whether to align text centrally,\n",
      "    at the top or bottom using the multirow package. If not given defaults to\n",
      "    ``pandas.options.styler.latex.multirow_align``, which is `\"c\"`.\n",
      "    If \"naive\" is given renders without multirow.\n",
      "\n",
      "    .. versionchanged:: 1.4.0\n",
      "multicol_align : {\"r\", \"c\", \"l\", \"naive-l\", \"naive-r\"}, optional\n",
      "    If sparsifying hierarchical MultiIndex columns whether to align text at\n",
      "    the left, centrally, or at the right. If not given defaults to\n",
      "    ``pandas.options.styler.latex.multicol_align``, which is \"r\".\n",
      "    If a naive option is given renders without multicol.\n",
      "    Pipe decorators can also be added to non-naive values to draw vertical\n",
      "    rules, e.g. \"\\|r\" will draw a rule on the left side of right aligned merged\n",
      "    cells.\n",
      "\n",
      "    .. versionchanged:: 1.4.0\n",
      "siunitx : bool, default False\n",
      "    Set to ``True`` to structure LaTeX compatible with the {siunitx} package.\n",
      "environment : str, optional\n",
      "    If given, the environment that will replace 'table' in ``\\\\begin{table}``.\n",
      "    If 'longtable' is specified then a more suitable template is\n",
      "    rendered. If not given defaults to\n",
      "    ``pandas.options.styler.latex.environment``, which is `None`.\n",
      "\n",
      "    .. versionadded:: 1.4.0\n",
      "encoding : str, optional\n",
      "    Character encoding setting. Defaults\n",
      "    to ``pandas.options.styler.render.encoding``, which is \"utf-8\".\n",
      "convert_css : bool, default False\n",
      "    Convert simple cell-styles from CSS to LaTeX format. Any CSS not found in\n",
      "    conversion table is dropped. A style can be forced by adding option\n",
      "    `--latex`. See notes.\n",
      "\n",
      "Returns\n",
      "-------\n",
      "str or None\n",
      "    If `buf` is None, returns the result as a string. Otherwise returns `None`.\n",
      "\n",
      "See Also\n",
      "--------\n",
      "Styler.format: Format the text display value of cells.\n",
      "\n",
      "Notes\n",
      "-----\n",
      "**Latex Packages**\n",
      "\n",
      "For the following features we recommend the following LaTeX inclusions:\n",
      "\n",
      "===================== ==========================================================\n",
      "Feature               Inclusion\n",
      "===================== ==========================================================\n",
      "sparse columns        none: included within default {tabular} environment\n",
      "sparse rows           \\\\usepackage{multirow}\n",
      "hrules                \\\\usepackage{booktabs}\n",
      "colors                \\\\usepackage[table]{xcolor}\n",
      "siunitx               \\\\usepackage{siunitx}\n",
      "bold (with siunitx)   | \\\\usepackage{etoolbox}\n",
      "                      | \\\\robustify\\\\bfseries\n",
      "                      | \\\\sisetup{detect-all = true}  *(within {document})*\n",
      "italic (with siunitx) | \\\\usepackage{etoolbox}\n",
      "                      | \\\\robustify\\\\itshape\n",
      "                      | \\\\sisetup{detect-all = true}  *(within {document})*\n",
      "environment           \\\\usepackage{longtable} if arg is \"longtable\"\n",
      "                      | or any other relevant environment package\n",
      "hyperlinks            \\\\usepackage{hyperref}\n",
      "===================== ==========================================================\n",
      "\n",
      "**Cell Styles**\n",
      "\n",
      "LaTeX styling can only be rendered if the accompanying styling functions have\n",
      "been constructed with appropriate LaTeX commands. All styling\n",
      "functionality is built around the concept of a CSS ``(<attribute>, <value>)``\n",
      "pair (see `Table Visualization <../../user_guide/style.ipynb>`_), and this\n",
      "should be replaced by a LaTeX\n",
      "``(<command>, <options>)`` approach. Each cell will be styled individually\n",
      "using nested LaTeX commands with their accompanied options.\n",
      "\n",
      "For example the following code will highlight and bold a cell in HTML-CSS:\n",
      "\n",
      ">>> df = pd.DataFrame([[1,2], [3,4]])\n",
      ">>> s = df.style.highlight_max(axis=None,\n",
      "...                            props='background-color:red; font-weight:bold;')\n",
      ">>> s.to_html()  # doctest: +SKIP\n",
      "\n",
      "The equivalent using LaTeX only commands is the following:\n",
      "\n",
      ">>> s = df.style.highlight_max(axis=None,\n",
      "...                            props='cellcolor:{red}; bfseries: ;')\n",
      ">>> s.to_latex()  # doctest: +SKIP\n",
      "\n",
      "Internally these structured LaTeX ``(<command>, <options>)`` pairs\n",
      "are translated to the\n",
      "``display_value`` with the default structure:\n",
      "``\\<command><options> <display_value>``.\n",
      "Where there are multiple commands the latter is nested recursively, so that\n",
      "the above example highlighed cell is rendered as\n",
      "``\\cellcolor{red} \\bfseries 4``.\n",
      "\n",
      "Occasionally this format does not suit the applied command, or\n",
      "combination of LaTeX packages that is in use, so additional flags can be\n",
      "added to the ``<options>``, within the tuple, to result in different\n",
      "positions of required braces (the **default** being the same as ``--nowrap``):\n",
      "\n",
      "=================================== ============================================\n",
      "Tuple Format                           Output Structure\n",
      "=================================== ============================================\n",
      "(<command>,<options>)               \\\\<command><options> <display_value>\n",
      "(<command>,<options> ``--nowrap``)  \\\\<command><options> <display_value>\n",
      "(<command>,<options> ``--rwrap``)   \\\\<command><options>{<display_value>}\n",
      "(<command>,<options> ``--wrap``)    {\\\\<command><options> <display_value>}\n",
      "(<command>,<options> ``--lwrap``)   {\\\\<command><options>} <display_value>\n",
      "(<command>,<options> ``--dwrap``)   {\\\\<command><options>}{<display_value>}\n",
      "=================================== ============================================\n",
      "\n",
      "For example the `textbf` command for font-weight\n",
      "should always be used with `--rwrap` so ``('textbf', '--rwrap')`` will render a\n",
      "working cell, wrapped with braces, as ``\\textbf{<display_value>}``.\n",
      "\n",
      "A more comprehensive example is as follows:\n",
      "\n",
      ">>> df = pd.DataFrame([[1, 2.2, \"dogs\"], [3, 4.4, \"cats\"], [2, 6.6, \"cows\"]],\n",
      "...                   index=[\"ix1\", \"ix2\", \"ix3\"],\n",
      "...                   columns=[\"Integers\", \"Floats\", \"Strings\"])\n",
      ">>> s = df.style.highlight_max(\n",
      "...     props='cellcolor:[HTML]{FFFF00}; color:{red};'\n",
      "...           'textit:--rwrap; textbf:--rwrap;'\n",
      "... )\n",
      ">>> s.to_latex()  # doctest: +SKIP\n",
      "\n",
      ".. figure:: ../../_static/style/latex_1.png\n",
      "\n",
      "**Table Styles**\n",
      "\n",
      "Internally Styler uses its ``table_styles`` object to parse the\n",
      "``column_format``, ``position``, ``position_float``, and ``label``\n",
      "input arguments. These arguments are added to table styles in the format:\n",
      "\n",
      ".. code-block:: python\n",
      "\n",
      "    set_table_styles([\n",
      "        {\"selector\": \"column_format\", \"props\": f\":{column_format};\"},\n",
      "        {\"selector\": \"position\", \"props\": f\":{position};\"},\n",
      "        {\"selector\": \"position_float\", \"props\": f\":{position_float};\"},\n",
      "        {\"selector\": \"label\", \"props\": f\":{{{label.replace(':','§')}}};\"}\n",
      "    ], overwrite=False)\n",
      "\n",
      "Exception is made for the ``hrules`` argument which, in fact, controls all three\n",
      "commands: ``toprule``, ``bottomrule`` and ``midrule`` simultaneously. Instead of\n",
      "setting ``hrules`` to ``True``, it is also possible to set each\n",
      "individual rule definition, by manually setting the ``table_styles``,\n",
      "for example below we set a regular ``toprule``, set an ``hline`` for\n",
      "``bottomrule`` and exclude the ``midrule``:\n",
      "\n",
      ".. code-block:: python\n",
      "\n",
      "    set_table_styles([\n",
      "        {'selector': 'toprule', 'props': ':toprule;'},\n",
      "        {'selector': 'bottomrule', 'props': ':hline;'},\n",
      "    ], overwrite=False)\n",
      "\n",
      "If other ``commands`` are added to table styles they will be detected, and\n",
      "positioned immediately above the '\\\\begin{tabular}' command. For example to\n",
      "add odd and even row coloring, from the {colortbl} package, in format\n",
      "``\\rowcolors{1}{pink}{red}``, use:\n",
      "\n",
      ".. code-block:: python\n",
      "\n",
      "    set_table_styles([\n",
      "        {'selector': 'rowcolors', 'props': ':{1}{pink}{red};'}\n",
      "    ], overwrite=False)\n",
      "\n",
      "A more comprehensive example using these arguments is as follows:\n",
      "\n",
      ">>> df.columns = pd.MultiIndex.from_tuples([\n",
      "...     (\"Numeric\", \"Integers\"),\n",
      "...     (\"Numeric\", \"Floats\"),\n",
      "...     (\"Non-Numeric\", \"Strings\")\n",
      "... ])\n",
      ">>> df.index = pd.MultiIndex.from_tuples([\n",
      "...     (\"L0\", \"ix1\"), (\"L0\", \"ix2\"), (\"L1\", \"ix3\")\n",
      "... ])\n",
      ">>> s = df.style.highlight_max(\n",
      "...     props='cellcolor:[HTML]{FFFF00}; color:{red}; itshape:; bfseries:;'\n",
      "... )\n",
      ">>> s.to_latex(\n",
      "...     column_format=\"rrrrr\", position=\"h\", position_float=\"centering\",\n",
      "...     hrules=True, label=\"table:5\", caption=\"Styled LaTeX Table\",\n",
      "...     multirow_align=\"t\", multicol_align=\"r\"\n",
      "... )  # doctest: +SKIP\n",
      "\n",
      ".. figure:: ../../_static/style/latex_2.png\n",
      "\n",
      "**Formatting**\n",
      "\n",
      "To format values :meth:`Styler.format` should be used prior to calling\n",
      "`Styler.to_latex`, as well as other methods such as :meth:`Styler.hide`\n",
      "for example:\n",
      "\n",
      ">>> s.clear()\n",
      ">>> s.table_styles = []\n",
      ">>> s.caption = None\n",
      ">>> s.format({\n",
      "...    (\"Numeric\", \"Integers\"): '\\${}',\n",
      "...    (\"Numeric\", \"Floats\"): '{:.3f}',\n",
      "...    (\"Non-Numeric\", \"Strings\"): str.upper\n",
      "... })  # doctest: +SKIP\n",
      "                Numeric      Non-Numeric\n",
      "          Integers   Floats    Strings\n",
      "L0    ix1       $1   2.200      DOGS\n",
      "      ix2       $3   4.400      CATS\n",
      "L1    ix3       $2   6.600      COWS\n",
      "\n",
      ">>> s.to_latex()  # doctest: +SKIP\n",
      "\\begin{tabular}{llrrl}\n",
      "{} & {} & \\multicolumn{2}{r}{Numeric} & {Non-Numeric} \\\\\n",
      "{} & {} & {Integers} & {Floats} & {Strings} \\\\\n",
      "\\multirow[c]{2}{*}{L0} & ix1 & \\\\$1 & 2.200 & DOGS \\\\\n",
      " & ix2 & \\$3 & 4.400 & CATS \\\\\n",
      "L1 & ix3 & \\$2 & 6.600 & COWS \\\\\n",
      "\\end{tabular}\n",
      "\n",
      "**CSS Conversion**\n",
      "\n",
      "This method can convert a Styler constructured with HTML-CSS to LaTeX using\n",
      "the following limited conversions.\n",
      "\n",
      "================== ==================== ============= ==========================\n",
      "CSS Attribute      CSS value            LaTeX Command LaTeX Options\n",
      "================== ==================== ============= ==========================\n",
      "font-weight        | bold               | bfseries\n",
      "                   | bolder             | bfseries\n",
      "font-style         | italic             | itshape\n",
      "                   | oblique            | slshape\n",
      "background-color   | red                cellcolor     | {red}--lwrap\n",
      "                   | #fe01ea                          | [HTML]{FE01EA}--lwrap\n",
      "                   | #f0e                             | [HTML]{FF00EE}--lwrap\n",
      "                   | rgb(128,255,0)                   | [rgb]{0.5,1,0}--lwrap\n",
      "                   | rgba(128,0,0,0.5)                | [rgb]{0.5,0,0}--lwrap\n",
      "                   | rgb(25%,255,50%)                 | [rgb]{0.25,1,0.5}--lwrap\n",
      "color              | red                color         | {red}\n",
      "                   | #fe01ea                          | [HTML]{FE01EA}\n",
      "                   | #f0e                             | [HTML]{FF00EE}\n",
      "                   | rgb(128,255,0)                   | [rgb]{0.5,1,0}\n",
      "                   | rgba(128,0,0,0.5)                | [rgb]{0.5,0,0}\n",
      "                   | rgb(25%,255,50%)                 | [rgb]{0.25,1,0.5}\n",
      "================== ==================== ============= ==========================\n",
      "\n",
      "It is also possible to add user-defined LaTeX only styles to a HTML-CSS Styler\n",
      "using the ``--latex`` flag, and to add LaTeX parsing options that the\n",
      "converter will detect within a CSS-comment.\n",
      "\n",
      ">>> df = pd.DataFrame([[1]])\n",
      ">>> df.style.set_properties(\n",
      "...     **{\"font-weight\": \"bold /* --dwrap */\", \"Huge\": \"--latex--rwrap\"}\n",
      "... ).to_latex(convert_css=True)  # doctest: +SKIP\n",
      "\\begin{tabular}{lr}\n",
      "{} & {0} \\\\\n",
      "0 & {\\bfseries}{\\Huge{1}} \\\\\n",
      "\\end{tabular}\n",
      "\n",
      "Examples\n",
      "--------\n",
      "Below we give a complete step by step example adding some advanced features\n",
      "and noting some common gotchas.\n",
      "\n",
      "First we create the DataFrame and Styler as usual, including MultiIndex rows\n",
      "and columns, which allow for more advanced formatting options:\n",
      "\n",
      ">>> cidx = pd.MultiIndex.from_arrays([\n",
      "...     [\"Equity\", \"Equity\", \"Equity\", \"Equity\",\n",
      "...      \"Stats\", \"Stats\", \"Stats\", \"Stats\", \"Rating\"],\n",
      "...     [\"Energy\", \"Energy\", \"Consumer\", \"Consumer\", \"\", \"\", \"\", \"\", \"\"],\n",
      "...     [\"BP\", \"Shell\", \"H&M\", \"Unilever\",\n",
      "...      \"Std Dev\", \"Variance\", \"52w High\", \"52w Low\", \"\"]\n",
      "... ])\n",
      ">>> iidx = pd.MultiIndex.from_arrays([\n",
      "...     [\"Equity\", \"Equity\", \"Equity\", \"Equity\"],\n",
      "...     [\"Energy\", \"Energy\", \"Consumer\", \"Consumer\"],\n",
      "...     [\"BP\", \"Shell\", \"H&M\", \"Unilever\"]\n",
      "... ])\n",
      ">>> styler = pd.DataFrame([\n",
      "...     [1, 0.8, 0.66, 0.72, 32.1678, 32.1678**2, 335.12, 240.89, \"Buy\"],\n",
      "...     [0.8, 1.0, 0.69, 0.79, 1.876, 1.876**2, 14.12, 19.78, \"Hold\"],\n",
      "...     [0.66, 0.69, 1.0, 0.86, 7, 7**2, 210.9, 140.6, \"Buy\"],\n",
      "...     [0.72, 0.79, 0.86, 1.0, 213.76, 213.76**2, 2807, 3678, \"Sell\"],\n",
      "... ], columns=cidx, index=iidx).style\n",
      "\n",
      "Second we will format the display and, since our table is quite wide, will\n",
      "hide the repeated level-0 of the index:\n",
      "\n",
      ">>> styler.format(subset=\"Equity\", precision=2)\n",
      "...       .format(subset=\"Stats\", precision=1, thousands=\",\")\n",
      "...       .format(subset=\"Rating\", formatter=str.upper)\n",
      "...       .format_index(escape=\"latex\", axis=1)\n",
      "...       .format_index(escape=\"latex\", axis=0)\n",
      "...       .hide(level=0, axis=0)  # doctest: +SKIP\n",
      "\n",
      "Note that one of the string entries of the index and column headers is \"H&M\".\n",
      "Without applying the `escape=\"latex\"` option to the `format_index` method the\n",
      "resultant LaTeX will fail to render, and the error returned is quite\n",
      "difficult to debug. Using the appropriate escape the \"&\" is converted to \"\\\\&\".\n",
      "\n",
      "Thirdly we will apply some (CSS-HTML) styles to our object. We will use a\n",
      "builtin method and also define our own method to highlight the stock\n",
      "recommendation:\n",
      "\n",
      ">>> def rating_color(v):\n",
      "...     if v == \"Buy\": color = \"#33ff85\"\n",
      "...     elif v == \"Sell\": color = \"#ff5933\"\n",
      "...     else: color = \"#ffdd33\"\n",
      "...     return f\"color: {color}; font-weight: bold;\"\n",
      ">>> styler.background_gradient(cmap=\"inferno\", subset=\"Equity\", vmin=0, vmax=1)\n",
      "...       .applymap(rating_color, subset=\"Rating\")  # doctest: +SKIP\n",
      "\n",
      "All the above styles will work with HTML (see below) and LaTeX upon conversion:\n",
      "\n",
      ".. figure:: ../../_static/style/latex_stocks_html.png\n",
      "\n",
      "However, we finally want to add one LaTeX only style\n",
      "(from the {graphicx} package), that is not easy to convert from CSS and\n",
      "pandas does not support it. Notice the `--latex` flag used here,\n",
      "as well as `--rwrap` to ensure this is formatted correctly and\n",
      "not ignored upon conversion.\n",
      "\n",
      ">>> styler.applymap_index(\n",
      "...     lambda v: \"rotatebox:{45}--rwrap--latex;\", level=2, axis=1\n",
      "... )  # doctest: +SKIP\n",
      "\n",
      "Finally we render our LaTeX adding in other options as required:\n",
      "\n",
      ">>> styler.to_latex(\n",
      "...     caption=\"Selected stock correlation and simple statistics.\",\n",
      "...     clines=\"skip-last;data\",\n",
      "...     convert_css=True,\n",
      "...     position_float=\"centering\",\n",
      "...     multicol_align=\"|c|\",\n",
      "...     hrules=True,\n",
      "... )  # doctest: +SKIP\n",
      "\\begin{table}\n",
      "\\centering\n",
      "\\caption{Selected stock correlation and simple statistics.}\n",
      "\\begin{tabular}{llrrrrrrrrl}\n",
      "\\toprule\n",
      " &  & \\multicolumn{4}{|c|}{Equity} & \\multicolumn{4}{|c|}{Stats} & Rating \\\\\n",
      " &  & \\multicolumn{2}{|c|}{Energy} & \\multicolumn{2}{|c|}{Consumer} &\n",
      "\\multicolumn{4}{|c|}{} &  \\\\\n",
      " &  & \\rotatebox{45}{BP} & \\rotatebox{45}{Shell} & \\rotatebox{45}{H\\&M} &\n",
      "\\rotatebox{45}{Unilever} & \\rotatebox{45}{Std Dev} & \\rotatebox{45}{Variance} &\n",
      "\\rotatebox{45}{52w High} & \\rotatebox{45}{52w Low} & \\rotatebox{45}{} \\\\\n",
      "\\midrule\n",
      "\\multirow[c]{2}{*}{Energy} & BP & {\\cellcolor[HTML]{FCFFA4}}\n",
      "\\color[HTML]{000000} 1.00 & {\\cellcolor[HTML]{FCA50A}} \\color[HTML]{000000}\n",
      "0.80 & {\\cellcolor[HTML]{EB6628}} \\color[HTML]{F1F1F1} 0.66 &\n",
      "{\\cellcolor[HTML]{F68013}} \\color[HTML]{F1F1F1} 0.72 & 32.2 & 1,034.8 & 335.1\n",
      "& 240.9 & \\color[HTML]{33FF85} \\bfseries BUY \\\\\n",
      " & Shell & {\\cellcolor[HTML]{FCA50A}} \\color[HTML]{000000} 0.80 &\n",
      "{\\cellcolor[HTML]{FCFFA4}} \\color[HTML]{000000} 1.00 &\n",
      "{\\cellcolor[HTML]{F1731D}} \\color[HTML]{F1F1F1} 0.69 &\n",
      "{\\cellcolor[HTML]{FCA108}} \\color[HTML]{000000} 0.79 & 1.9 & 3.5 & 14.1 &\n",
      "19.8 & \\color[HTML]{FFDD33} \\bfseries HOLD \\\\\n",
      "\\cline{1-11}\n",
      "\\multirow[c]{2}{*}{Consumer} & H\\&M & {\\cellcolor[HTML]{EB6628}}\n",
      "\\color[HTML]{F1F1F1} 0.66 & {\\cellcolor[HTML]{F1731D}} \\color[HTML]{F1F1F1}\n",
      "0.69 & {\\cellcolor[HTML]{FCFFA4}} \\color[HTML]{000000} 1.00 &\n",
      "{\\cellcolor[HTML]{FAC42A}} \\color[HTML]{000000} 0.86 & 7.0 & 49.0 & 210.9 &\n",
      "140.6 & \\color[HTML]{33FF85} \\bfseries BUY \\\\\n",
      " & Unilever & {\\cellcolor[HTML]{F68013}} \\color[HTML]{F1F1F1} 0.72 &\n",
      "{\\cellcolor[HTML]{FCA108}} \\color[HTML]{000000} 0.79 &\n",
      "{\\cellcolor[HTML]{FAC42A}} \\color[HTML]{000000} 0.86 &\n",
      "{\\cellcolor[HTML]{FCFFA4}} \\color[HTML]{000000} 1.00 & 213.8 & 45,693.3 &\n",
      "2,807.0 & 3,678.0 & \\color[HTML]{FF5933} \\bfseries SELL \\\\\n",
      "\\cline{1-11}\n",
      "\\bottomrule\n",
      "\\end{tabular}\n",
      "\\end{table}\n",
      "\n",
      ".. figure:: ../../_static/style/latex_stocks.png\n",
      "\u001b[1;31mFile:\u001b[0m      c:\\users\\nicola\\anaconda3\\envs\\st\\lib\\site-packages\\pandas\\io\\formats\\style.py\n",
      "\u001b[1;31mType:\u001b[0m      method\n"
     ]
    }
   ],
   "source": [
    "df.style.to_latex?"
   ]
  },
  {
   "cell_type": "code",
   "execution_count": 233,
   "metadata": {},
   "outputs": [],
   "source": [
    "def find_local_max_xy(x: np.array, y:np.array, a:float, b:float, tol) -> tuple: #TODO sistemare il typing\n",
    "    \"\"\"\n",
    "    Find the local max y value of and x,y plot and the associated x, corresponding to limits: x==a and x==b \n",
    "\n",
    "    x must be an np.array and should be an ordinated values array, like np.arange and np.linspace\n",
    "\n",
    "    a: the initial value of x, not the corresponding index -> y[a_index : ]\n",
    "    b: the final value of x, not the corresponding index\n",
    "\n",
    "\n",
    "    Doesn't prevent the case where there are more y max values (like in a costant y plot). \n",
    "    In this case only the first occurrence is returned\n",
    "    \"\"\"\n",
    "    a_index = np.where((x >= a - tol) & (x <= a + tol))[0][0]\n",
    "    b_index = np.where((x >= b - tol) & (x <= b + tol))[0][0]\n",
    "    index = np.argmax(y[a_index:b_index])\n",
    "    return x[index], y[index]\n",
    "def find_max_xy(x: list, y:list) -> tuple:\n",
    "    \"\"\"\n",
    "    Find the max y value of and x,y plot and the associated x. \n",
    "\n",
    "    Doesn't prevent the case where there are more y max values (like in a costant y plot). \n",
    "    In this case only the first occurrence is returned. See find_max_xy_all instead\n",
    "    \"\"\"\n",
    "    index = np.argmax(y)\n",
    "    return x[index], y[index]"
   ]
  },
  {
   "cell_type": "code",
   "execution_count": 237,
   "metadata": {},
   "outputs": [
    {
     "data": {
      "text/plain": [
       "(0.39990000000000003, 0.38932623426231205)"
      ]
     },
     "execution_count": 237,
     "metadata": {},
     "output_type": "execute_result"
    }
   ],
   "source": [
    "x = np.arange(0,7,0.0001)\n",
    "find_local_max_xy(x,np.sin(x),6.5,6.9,0.0001/2)"
   ]
  },
  {
   "cell_type": "code",
   "execution_count": 244,
   "metadata": {},
   "outputs": [
    {
     "data": {
      "text/plain": [
       "array([0.21511999, 0.21521765, 0.2153153 , ..., 0.57819502, 0.57827661,\n",
       "       0.57835819])"
      ]
     },
     "execution_count": 244,
     "metadata": {},
     "output_type": "execute_result"
    }
   ],
   "source": [
    "np.sin(x)[65000:69000]"
   ]
  },
  {
   "cell_type": "code",
   "execution_count": 26,
   "metadata": {},
   "outputs": [
    {
     "data": {
      "text/plain": [
       "[0, 4, 5, 0, 44, 52]"
      ]
     },
     "execution_count": 26,
     "metadata": {},
     "output_type": "execute_result"
    }
   ],
   "source": [
    "a = [0,4,5]\n",
    "b = [0,44,52]\n",
    "#l = a.extend(b)\n",
    "(a +b\n",
    "l"
   ]
  },
  {
   "cell_type": "code",
   "execution_count": 37,
   "metadata": {},
   "outputs": [
    {
     "data": {
      "text/plain": [
       "[4, 5, 0, 44]"
      ]
     },
     "execution_count": 37,
     "metadata": {},
     "output_type": "execute_result"
    }
   ],
   "source": [
    "a = [0, 4, 5, 0, 44, 52]\n",
    "a[1:-1]"
   ]
  },
  {
   "cell_type": "code",
   "execution_count": 28,
   "metadata": {},
   "outputs": [
    {
     "data": {
      "text/plain": [
       "[0, 0, 4, 5, 44, 52]"
      ]
     },
     "execution_count": 28,
     "metadata": {},
     "output_type": "execute_result"
    }
   ],
   "source": [
    "l"
   ]
  },
  {
   "cell_type": "code",
   "execution_count": 39,
   "metadata": {},
   "outputs": [],
   "source": [
    "#for testing:\n",
    "q_max_list = [\"S1\", \"S2\", \"S3\", \"S4\", \"S5\", \"S6\"]\n",
    "q_min_list = [\"F1\", \"F2\", \"F3\", \"F4\", \"F5\", \"F6\"]\n",
    "nCampate = 6        \n",
    "\n",
    "# S S S S S  S ...\n",
    "comb_0 = q_max_list\n",
    "# S F S F S F ...\n",
    "comb_1 = [q_max_list[i] if i%2 == 0 else q_min_list[i] for i in range(nCampate)]\n",
    "# F S F S F S...\n",
    "comb_2 = [q_max_list[i] if i%2 == 1 else q_min_list[i] for i in range(nCampate)]\n",
    "# S S F S F S...\n",
    "comb_3 = [q_max_list[0]]\n",
    "comb_3.extend([q_max_list[i] if i%2 == 1 else q_min_list[i] for i in range(1,nCampate)])\n",
    "\n",
    "comb_3 = [q_max_list[i] if i%2 == 1 else q_min_list[i] for i in range(nCampate)]\n",
    "comb_3[0] = q_max_list[0]"
   ]
  },
  {
   "cell_type": "code",
   "execution_count": 46,
   "metadata": {},
   "outputs": [
    {
     "data": {
      "text/plain": [
       "['F1', 'S2', 'F3', 'S4', 'F5', 'S6']"
      ]
     },
     "execution_count": 46,
     "metadata": {},
     "output_type": "execute_result"
    }
   ],
   "source": [
    "[q_max_list[i] if i%2 == 1 else q_min_list[i] for i in range(nCampate)]\n"
   ]
  },
  {
   "cell_type": "code",
   "execution_count": 102,
   "metadata": {},
   "outputs": [],
   "source": [
    "\n",
    "        # S S S S S S ...\n",
    "        comb_0 = q_max_list\n",
    "        # S F S F S F ...\n",
    "        comb_1 = [q_max_list[i] if i%2 == 0 else q_min_list[i] for i in range(nCampate)]\n",
    "        # F S F S F S...\n",
    "        comb_2 = [q_max_list[i] if i%2 == 1 else q_min_list[i] for i in range(nCampate)]\n",
    "\n",
    "        \"\"\"\n",
    "        S S F S F S...\n",
    "        F S S F S F...\n",
    "        S F S S F S...\n",
    "\n",
    "        comb_j is a couple of [ S[j] , S[j+1] ] at j index. Then is added the left side and the right side to it. \n",
    "        if j = 1: ['F1', 'S2', 'S3', 'F4', 'S5', 'F6']\n",
    "        if j = 2: ['S1', 'F2', 'S3', 'S4', 'F5', 'S6']\n",
    "        \"\"\"\n",
    "        combs_SS: list[list] = []\n",
    "        \n",
    "        for j in range(0,nCampate-1): \n",
    "            comb_j = [q_max_list[j] , q_max_list[j+1]] \n",
    "            if j%2 == 0:\n",
    "                comb_right = [q_max_list[i] if i%2 == 1 else q_min_list[i] for i in range(j+2,nCampate)]\n",
    "                comb_left = [q_max_list[i] if i%2 == 0 else q_min_list[i] for i in range(0,j)]\n",
    "            else:\n",
    "                comb_right = [q_max_list[i] if i%2 == 0 else q_min_list[i] for i in range(j+2,nCampate)]\n",
    "                comb_left = [q_max_list[i] if i%2 == 1 else q_min_list[i] for i in range(0,j)]\n",
    "\n",
    "            comb_left.extend(comb_j)\n",
    "            comb_left.extend(comb_right)\n",
    "            combs_SS.append(comb_left)\n",
    "\n",
    "        # Add all combinations in a list of lists:\n",
    "        combs: list[list] = [comb_0, comb_1, comb_2]\n",
    "        combs.extend(combs_SS)"
   ]
  },
  {
   "cell_type": "code",
   "execution_count": 104,
   "metadata": {},
   "outputs": [
    {
     "data": {
      "text/plain": [
       "[['S1', 'S2', 'S3', 'S4', 'S5', 'S6'],\n",
       " ['S1', 'F2', 'S3', 'F4', 'S5', 'F6'],\n",
       " ['F1', 'S2', 'F3', 'S4', 'F5', 'S6'],\n",
       " ['S1', 'S2', 'F3', 'S4', 'F5', 'S6'],\n",
       " ['F1', 'S2', 'S3', 'F4', 'S5', 'F6'],\n",
       " ['S1', 'F2', 'S3', 'S4', 'F5', 'S6'],\n",
       " ['F1', 'S2', 'F3', 'S4', 'S5', 'F6'],\n",
       " ['S1', 'F2', 'S3', 'F4', 'S5', 'S6']]"
      ]
     },
     "execution_count": 104,
     "metadata": {},
     "output_type": "execute_result"
    }
   ],
   "source": [
    "\n",
    "# S S S S S S ...\n",
    "comb_0 = q_max_list\n",
    "# S F S F S F ...\n",
    "comb_1 = [q_max_list[i] if i%2 == 0 else q_min_list[i] for i in range(nCampate)]\n",
    "# F S F S F S...\n",
    "comb_2 = [q_max_list[i] if i%2 == 1 else q_min_list[i] for i in range(nCampate)]\n",
    "\n",
    "\"\"\"\n",
    "S S F S F S...\n",
    "F S S F S F...\n",
    "S F S S F S...\n",
    "\n",
    "comb_j is a couple of [ S[j] , S[j+1] ] at j index. Then is added the left side and the right side to it. \n",
    "if j = 1: ['F1', 'S2', 'S3', 'F4', 'S5', 'F6']\n",
    "if j = 2: ['S1', 'F2', 'S3', 'S4', 'F5', 'S6']\n",
    "\"\"\"\n",
    "combs_SS: list[list] = []\n",
    "\n",
    "for j in range(0,nCampate-1): \n",
    "    comb_j = [q_max_list[j] , q_max_list[j+1]] \n",
    "    if j%2 == 0:\n",
    "        comb_right = [q_max_list[i] if i%2 == 1 else q_min_list[i] for i in range(j+2,nCampate)]\n",
    "        comb_left = [q_max_list[i] if i%2 == 0 else q_min_list[i] for i in range(0,j)]\n",
    "    else:\n",
    "        comb_right = [q_max_list[i] if i%2 == 0 else q_min_list[i] for i in range(j+2,nCampate)]\n",
    "        comb_left = [q_max_list[i] if i%2 == 1 else q_min_list[i] for i in range(0,j)]\n",
    "\n",
    "    comb_left.extend(comb_j)\n",
    "    comb_left.extend(comb_right)\n",
    "    combs_SS.append(comb_left)\n",
    "\n",
    "# Add all combinations in a list of lists:\n",
    "combs: list[list] = [comb_0, comb_1, comb_2]\n",
    "combs.extend(combs_SS)\n",
    "\n",
    "combs"
   ]
  },
  {
   "cell_type": "code",
   "execution_count": 101,
   "metadata": {},
   "outputs": [
    {
     "data": {
      "text/plain": [
       "[[1, 2],\n",
       " [2, 3, 4],\n",
       " ['S1', 'S2', 'F3', 'S4', 'F5', 'S6'],\n",
       " ['F1', 'S2', 'S3', 'F4', 'S5', 'F6'],\n",
       " ['S1', 'F2', 'S3', 'S4', 'F5', 'S6'],\n",
       " ['F1', 'S2', 'F3', 'S4', 'S5', 'F6'],\n",
       " ['S1', 'F2', 'S3', 'F4', 'S5', 'S6']]"
      ]
     },
     "execution_count": 101,
     "metadata": {},
     "output_type": "execute_result"
    }
   ],
   "source": [
    "combs= [[1,2],[2,3,4]]\n",
    "\n",
    "combs.extend(combs_SS)\n",
    "combs\n"
   ]
  },
  {
   "cell_type": "code",
   "execution_count": null,
   "metadata": {},
   "outputs": [],
   "source": []
  }
 ],
 "metadata": {
  "interpreter": {
   "hash": "e9dfbbb36e3b3679682f891148ee1981976897dd5367a65a9c1bc658de856a84"
  },
  "kernelspec": {
   "display_name": "Python 3.9.7 ('st')",
   "language": "python",
   "name": "python3"
  },
  "language_info": {
   "codemirror_mode": {
    "name": "ipython",
    "version": 3
   },
   "file_extension": ".py",
   "mimetype": "text/x-python",
   "name": "python",
   "nbconvert_exporter": "python",
   "pygments_lexer": "ipython3",
   "version": "3.9.7"
  },
  "orig_nbformat": 4
 },
 "nbformat": 4,
 "nbformat_minor": 2
}
