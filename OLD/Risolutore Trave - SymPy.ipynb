{
 "cells": [
  {
   "cell_type": "markdown",
   "metadata": {},
   "source": [
    "## Note:\n",
    "This file does the same things of **Risolutore Trave - SageMath.ipynb** but it is convertend in pure Sympy language and not more in SageMath. That's because SageMath is a dito in culo per fare cose banali."
   ]
  },
  {
   "cell_type": "code",
   "execution_count": 1,
   "metadata": {},
   "outputs": [],
   "source": [
    "import sympy as sp"
   ]
  },
  {
   "cell_type": "markdown",
   "metadata": {},
   "source": [
    "## Values"
   ]
  },
  {
   "cell_type": "code",
   "execution_count": 2,
   "metadata": {},
   "outputs": [],
   "source": [
    "l1=3.00\n",
    "l2=4.50\n",
    "l3=4.00\n",
    "l4=5.00\n",
    "l5=6.15\n",
    "l6=4.00\n",
    "lenghts=[l1,l2,l3,l4,l5,l6]\n",
    "\n",
    "j=(0.3 * 0.5**3)/12 #m4\n",
    "ej1=31476*1000000*j/1000 #Mpa * m4 -> N*m2 -> kN*m2\n",
    "ej=[ej1,ej1,ej1,ej1,ej1,ej1]"
   ]
  },
  {
   "cell_type": "markdown",
   "metadata": {},
   "source": [
    "## Creation of the symbolic matrixes:"
   ]
  },
  {
   "cell_type": "code",
   "execution_count": 3,
   "metadata": {},
   "outputs": [],
   "source": [
    "nCampate =  6\n",
    "L   = sp.Matrix(nCampate, 1, [sp.symbols(f\"L_{i}\",real=\"True\",nonnegative=\"True\") for i in range(1, nCampate+1)]   )\n",
    "P   = sp.Matrix(nCampate, 1, [sp.symbols(f\"P_{i}\") for i in range(1, nCampate+1)]   )\n",
    "Q   = sp.Matrix(nCampate, 1, [sp.symbols(f\"Q_{i}\",positive=\"True\") for i in range(1, nCampate+1)]   )\n",
    "EJ  = sp.Matrix(nCampate, 1, [sp.symbols(f\"EJ_{i}\") for i in range(1, nCampate+1)]  )"
   ]
  },
  {
   "cell_type": "markdown",
   "metadata": {},
   "source": [
    "### Flex matrix"
   ]
  },
  {
   "cell_type": "code",
   "execution_count": 4,
   "metadata": {},
   "outputs": [
    {
     "data": {
      "text/latex": [
       "$\\displaystyle \\left[\\begin{matrix}0\\\\\\frac{L_{1}}{3 EJ_{1}}\\\\\\frac{L_{2}}{3 EJ_{2}}\\\\\\frac{L_{3}}{3 EJ_{3}}\\\\\\frac{L_{4}}{3 EJ_{4}}\\\\\\frac{L_{5}}{3 EJ_{5}}\\\\\\frac{L_{6}}{3 EJ_{6}}\\end{matrix}\\right]$"
      ],
      "text/plain": [
       "Matrix([\n",
       "[           0],\n",
       "[L_1/(3*EJ_1)],\n",
       "[L_2/(3*EJ_2)],\n",
       "[L_3/(3*EJ_3)],\n",
       "[L_4/(3*EJ_4)],\n",
       "[L_5/(3*EJ_5)],\n",
       "[L_6/(3*EJ_6)]])"
      ]
     },
     "execution_count": 4,
     "metadata": {},
     "output_type": "execute_result"
    }
   ],
   "source": [
    "flex_diag_sx = sp.Matrix([sp.Rational(1,3) * L[i] * EJ[i]**-1 for i in range(0,nCampate)])\n",
    "# Aggiunge uno zero all'inizio diventando n+1\n",
    "flex_diag_sx = sp.Matrix.vstack(sp.zeros(1,1), flex_diag_sx) \n",
    "flex_diag_sx"
   ]
  },
  {
   "cell_type": "code",
   "execution_count": 5,
   "metadata": {},
   "outputs": [
    {
     "data": {
      "text/latex": [
       "$\\displaystyle \\left[\\begin{matrix}\\frac{L_{1}}{3 EJ_{1}}\\\\\\frac{L_{2}}{3 EJ_{2}}\\\\\\frac{L_{3}}{3 EJ_{3}}\\\\\\frac{L_{4}}{3 EJ_{4}}\\\\\\frac{L_{5}}{3 EJ_{5}}\\\\\\frac{L_{6}}{3 EJ_{6}}\\\\0\\end{matrix}\\right]$"
      ],
      "text/plain": [
       "Matrix([\n",
       "[L_1/(3*EJ_1)],\n",
       "[L_2/(3*EJ_2)],\n",
       "[L_3/(3*EJ_3)],\n",
       "[L_4/(3*EJ_4)],\n",
       "[L_5/(3*EJ_5)],\n",
       "[L_6/(3*EJ_6)],\n",
       "[           0]])"
      ]
     },
     "execution_count": 5,
     "metadata": {},
     "output_type": "execute_result"
    }
   ],
   "source": [
    "flex_diag_dx = sp.Matrix([sp.Rational(1,3) * L[i] * EJ[i]**-1 for i in range(0,nCampate)])\n",
    "# Aggiunge uno zero alla fine diventando n+1:\n",
    "flex_diag_dx = sp.Matrix.vstack(flex_diag_dx , sp.zeros(1,1)) \n",
    "flex_diag_dx"
   ]
  },
  {
   "cell_type": "code",
   "execution_count": 6,
   "metadata": {},
   "outputs": [
    {
     "data": {
      "text/latex": [
       "$\\displaystyle \\left[\\begin{matrix}\\frac{L_{1}}{3 EJ_{1}}\\\\\\frac{L_{2}}{3 EJ_{2}} + \\frac{L_{1}}{3 EJ_{1}}\\\\\\frac{L_{3}}{3 EJ_{3}} + \\frac{L_{2}}{3 EJ_{2}}\\\\\\frac{L_{4}}{3 EJ_{4}} + \\frac{L_{3}}{3 EJ_{3}}\\\\\\frac{L_{5}}{3 EJ_{5}} + \\frac{L_{4}}{3 EJ_{4}}\\\\\\frac{L_{6}}{3 EJ_{6}} + \\frac{L_{5}}{3 EJ_{5}}\\\\\\frac{L_{6}}{3 EJ_{6}}\\end{matrix}\\right]$"
      ],
      "text/plain": [
       "Matrix([\n",
       "[               L_1/(3*EJ_1)],\n",
       "[L_2/(3*EJ_2) + L_1/(3*EJ_1)],\n",
       "[L_3/(3*EJ_3) + L_2/(3*EJ_2)],\n",
       "[L_4/(3*EJ_4) + L_3/(3*EJ_3)],\n",
       "[L_5/(3*EJ_5) + L_4/(3*EJ_4)],\n",
       "[L_6/(3*EJ_6) + L_5/(3*EJ_5)],\n",
       "[               L_6/(3*EJ_6)]])"
      ]
     },
     "execution_count": 6,
     "metadata": {},
     "output_type": "execute_result"
    }
   ],
   "source": [
    "flex_diag_tot = flex_diag_sx + flex_diag_dx\n",
    "flex_diag_tot\n"
   ]
  },
  {
   "cell_type": "code",
   "execution_count": 7,
   "metadata": {},
   "outputs": [
    {
     "data": {
      "text/latex": [
       "$\\displaystyle \\left[\\begin{matrix}\\frac{L_{1}}{6 EJ_{1}}\\\\\\frac{L_{2}}{6 EJ_{2}}\\\\\\frac{L_{3}}{6 EJ_{3}}\\\\\\frac{L_{4}}{6 EJ_{4}}\\\\\\frac{L_{5}}{6 EJ_{5}}\\\\\\frac{L_{6}}{6 EJ_{6}}\\end{matrix}\\right]$"
      ],
      "text/plain": [
       "Matrix([\n",
       "[L_1/(6*EJ_1)],\n",
       "[L_2/(6*EJ_2)],\n",
       "[L_3/(6*EJ_3)],\n",
       "[L_4/(6*EJ_4)],\n",
       "[L_5/(6*EJ_5)],\n",
       "[L_6/(6*EJ_6)]])"
      ]
     },
     "execution_count": 7,
     "metadata": {},
     "output_type": "execute_result"
    }
   ],
   "source": [
    "flex_lowerdiag = sp.Rational(1,2) * sp.Matrix(flex_diag_sx[1:nCampate+1])\n",
    "flex_lowerdiag"
   ]
  },
  {
   "cell_type": "code",
   "execution_count": 8,
   "metadata": {},
   "outputs": [
    {
     "data": {
      "text/latex": [
       "$\\displaystyle \\left[\\begin{matrix}\\frac{L_{1}}{6 EJ_{1}}\\\\\\frac{L_{2}}{6 EJ_{2}}\\\\\\frac{L_{3}}{6 EJ_{3}}\\\\\\frac{L_{4}}{6 EJ_{4}}\\\\\\frac{L_{5}}{6 EJ_{5}}\\\\\\frac{L_{6}}{6 EJ_{6}}\\end{matrix}\\right]$"
      ],
      "text/plain": [
       "Matrix([\n",
       "[L_1/(6*EJ_1)],\n",
       "[L_2/(6*EJ_2)],\n",
       "[L_3/(6*EJ_3)],\n",
       "[L_4/(6*EJ_4)],\n",
       "[L_5/(6*EJ_5)],\n",
       "[L_6/(6*EJ_6)]])"
      ]
     },
     "execution_count": 8,
     "metadata": {},
     "output_type": "execute_result"
    }
   ],
   "source": [
    "flex_upperdiag = sp.Rational(1,2) * sp.Matrix(flex_diag_dx[0:-1])\n",
    "flex_upperdiag"
   ]
  },
  {
   "cell_type": "code",
   "execution_count": 9,
   "metadata": {},
   "outputs": [
    {
     "data": {
      "text/latex": [
       "$\\displaystyle \\left[\\begin{matrix}\\frac{L_{1}}{3 EJ_{1}} & \\frac{L_{1}}{6 EJ_{1}} & 0 & 0 & 0 & 0 & 0\\\\\\frac{L_{1}}{6 EJ_{1}} & \\frac{L_{2}}{3 EJ_{2}} + \\frac{L_{1}}{3 EJ_{1}} & \\frac{L_{2}}{6 EJ_{2}} & 0 & 0 & 0 & 0\\\\0 & \\frac{L_{2}}{6 EJ_{2}} & \\frac{L_{3}}{3 EJ_{3}} + \\frac{L_{2}}{3 EJ_{2}} & \\frac{L_{3}}{6 EJ_{3}} & 0 & 0 & 0\\\\0 & 0 & \\frac{L_{3}}{6 EJ_{3}} & \\frac{L_{4}}{3 EJ_{4}} + \\frac{L_{3}}{3 EJ_{3}} & \\frac{L_{4}}{6 EJ_{4}} & 0 & 0\\\\0 & 0 & 0 & \\frac{L_{4}}{6 EJ_{4}} & \\frac{L_{5}}{3 EJ_{5}} + \\frac{L_{4}}{3 EJ_{4}} & \\frac{L_{5}}{6 EJ_{5}} & 0\\\\0 & 0 & 0 & 0 & \\frac{L_{5}}{6 EJ_{5}} & \\frac{L_{6}}{3 EJ_{6}} + \\frac{L_{5}}{3 EJ_{5}} & \\frac{L_{6}}{6 EJ_{6}}\\\\0 & 0 & 0 & 0 & 0 & \\frac{L_{6}}{6 EJ_{6}} & \\frac{L_{6}}{3 EJ_{6}}\\end{matrix}\\right]$"
      ],
      "text/plain": [
       "Matrix([\n",
       "[L_1/(3*EJ_1),                L_1/(6*EJ_1),                           0,                           0,                           0,                           0,            0],\n",
       "[L_1/(6*EJ_1), L_2/(3*EJ_2) + L_1/(3*EJ_1),                L_2/(6*EJ_2),                           0,                           0,                           0,            0],\n",
       "[           0,                L_2/(6*EJ_2), L_3/(3*EJ_3) + L_2/(3*EJ_2),                L_3/(6*EJ_3),                           0,                           0,            0],\n",
       "[           0,                           0,                L_3/(6*EJ_3), L_4/(3*EJ_4) + L_3/(3*EJ_3),                L_4/(6*EJ_4),                           0,            0],\n",
       "[           0,                           0,                           0,                L_4/(6*EJ_4), L_5/(3*EJ_5) + L_4/(3*EJ_4),                L_5/(6*EJ_5),            0],\n",
       "[           0,                           0,                           0,                           0,                L_5/(6*EJ_5), L_6/(3*EJ_6) + L_5/(3*EJ_5), L_6/(6*EJ_6)],\n",
       "[           0,                           0,                           0,                           0,                           0,                L_6/(6*EJ_6), L_6/(3*EJ_6)]])"
      ]
     },
     "execution_count": 9,
     "metadata": {},
     "output_type": "execute_result"
    }
   ],
   "source": [
    "flex_gen = sp.zeros(nCampate+1,nCampate+1)\n",
    "for i in range(nCampate+1): \n",
    "    flex_gen[i,i] = flex_diag_tot[i] \n",
    "for i in range(nCampate):\n",
    "    flex_gen[i,i+1] = flex_upperdiag[i]\n",
    "for i in range(nCampate):\n",
    "    flex_gen[i+1,i] = flex_lowerdiag[i]\n",
    "flex_gen"
   ]
  },
  {
   "cell_type": "markdown",
   "metadata": {},
   "source": [
    "### P vector"
   ]
  },
  {
   "cell_type": "code",
   "execution_count": 10,
   "metadata": {},
   "outputs": [
    {
     "data": {
      "text/latex": [
       "$\\displaystyle \\left[\\begin{matrix}\\frac{L_{1}^{3} Q_{1}}{24 EJ_{1}}\\\\\\frac{L_{2}^{3} Q_{2}}{24 EJ_{2}} + \\frac{L_{1}^{3} Q_{1}}{24 EJ_{1}}\\\\\\frac{L_{3}^{3} Q_{3}}{24 EJ_{3}} + \\frac{L_{2}^{3} Q_{2}}{24 EJ_{2}}\\\\\\frac{L_{4}^{3} Q_{4}}{24 EJ_{4}} + \\frac{L_{3}^{3} Q_{3}}{24 EJ_{3}}\\\\\\frac{L_{5}^{3} Q_{5}}{24 EJ_{5}} + \\frac{L_{4}^{3} Q_{4}}{24 EJ_{4}}\\\\\\frac{L_{6}^{3} Q_{6}}{24 EJ_{6}} + \\frac{L_{5}^{3} Q_{5}}{24 EJ_{5}}\\\\\\frac{L_{6}^{3} Q_{6}}{24 EJ_{6}}\\end{matrix}\\right]$"
      ],
      "text/plain": [
       "Matrix([\n",
       "[                       L_1**3*Q_1/(24*EJ_1)],\n",
       "[L_2**3*Q_2/(24*EJ_2) + L_1**3*Q_1/(24*EJ_1)],\n",
       "[L_3**3*Q_3/(24*EJ_3) + L_2**3*Q_2/(24*EJ_2)],\n",
       "[L_4**3*Q_4/(24*EJ_4) + L_3**3*Q_3/(24*EJ_3)],\n",
       "[L_5**3*Q_5/(24*EJ_5) + L_4**3*Q_4/(24*EJ_4)],\n",
       "[L_6**3*Q_6/(24*EJ_6) + L_5**3*Q_5/(24*EJ_5)],\n",
       "[                       L_6**3*Q_6/(24*EJ_6)]])"
      ]
     },
     "execution_count": 10,
     "metadata": {},
     "output_type": "execute_result"
    }
   ],
   "source": [
    "P_sx = sp.Matrix([sp.Rational(1,24) * Q[i] * L[i]**3 * EJ[i]**-1 for i in range(0,nCampate)]) \n",
    "# Aggiunge uno zero all'inizio diventando n+1\n",
    "P_sx = sp.Matrix.vstack(sp.zeros(1,1), P_sx) \n",
    "\n",
    "P_dx = sp.Matrix([sp.Rational(1,24) * Q[i] * L[i]**3 * EJ[i]**-1 for i in range(0,nCampate)])\n",
    "# Aggiunge uno zero alla fine diventando n+1:\n",
    "P_dx = sp.Matrix.vstack(P_dx , sp.zeros(1,1)) \n",
    "\n",
    "P_gen = P_sx  + P_dx\n",
    "P_gen"
   ]
  },
  {
   "cell_type": "markdown",
   "metadata": {},
   "source": [
    "## Boundary Conditions and reduced matrixes"
   ]
  },
  {
   "cell_type": "code",
   "execution_count": 11,
   "metadata": {},
   "outputs": [],
   "source": [
    "supports = \"no-incastre\"\n",
    "\n",
    "if supports == \"no-incastre\":\n",
    "    flex_rid = flex_gen[1:nCampate,1:nCampate]\n",
    "    P_rid    = P_gen[1:nCampate]\n",
    "elif supports == \"incastre-left\":   \n",
    "    flex_rid =  flex_gen[0:nCampate,0:nCampate]\n",
    "    P_rid    = P_gen[0:nCampate]\n",
    "elif supports == \"incastre-right\":\n",
    "    flex_rid = flex_gen[1:nCampate+1,1:nCampate+1]\n",
    "    P_rid    = P_gen[1:nCampate+1]\n",
    "elif supports == \"double-incastre\":\n",
    "    flex_rid = sp.Matrix.copy(flex_gen)\n",
    "    P_rid    = sp.Matrix.copy(P_gen)\n",
    "\n",
    "flex_rid = sp.Matrix(flex_rid)\n",
    "P_rid = sp.Matrix(P_rid)"
   ]
  },
  {
   "cell_type": "code",
   "execution_count": 12,
   "metadata": {},
   "outputs": [
    {
     "data": {
      "text/latex": [
       "$\\displaystyle \\left[\\begin{matrix}\\frac{L_{2}}{3 EJ_{2}} + \\frac{L_{1}}{3 EJ_{1}} & \\frac{L_{2}}{6 EJ_{2}} & 0 & 0 & 0\\\\\\frac{L_{2}}{6 EJ_{2}} & \\frac{L_{3}}{3 EJ_{3}} + \\frac{L_{2}}{3 EJ_{2}} & \\frac{L_{3}}{6 EJ_{3}} & 0 & 0\\\\0 & \\frac{L_{3}}{6 EJ_{3}} & \\frac{L_{4}}{3 EJ_{4}} + \\frac{L_{3}}{3 EJ_{3}} & \\frac{L_{4}}{6 EJ_{4}} & 0\\\\0 & 0 & \\frac{L_{4}}{6 EJ_{4}} & \\frac{L_{5}}{3 EJ_{5}} + \\frac{L_{4}}{3 EJ_{4}} & \\frac{L_{5}}{6 EJ_{5}}\\\\0 & 0 & 0 & \\frac{L_{5}}{6 EJ_{5}} & \\frac{L_{6}}{3 EJ_{6}} + \\frac{L_{5}}{3 EJ_{5}}\\end{matrix}\\right]$"
      ],
      "text/plain": [
       "Matrix([\n",
       "[L_2/(3*EJ_2) + L_1/(3*EJ_1),                L_2/(6*EJ_2),                           0,                           0,                           0],\n",
       "[               L_2/(6*EJ_2), L_3/(3*EJ_3) + L_2/(3*EJ_2),                L_3/(6*EJ_3),                           0,                           0],\n",
       "[                          0,                L_3/(6*EJ_3), L_4/(3*EJ_4) + L_3/(3*EJ_3),                L_4/(6*EJ_4),                           0],\n",
       "[                          0,                           0,                L_4/(6*EJ_4), L_5/(3*EJ_5) + L_4/(3*EJ_4),                L_5/(6*EJ_5)],\n",
       "[                          0,                           0,                           0,                L_5/(6*EJ_5), L_6/(3*EJ_6) + L_5/(3*EJ_5)]])"
      ]
     },
     "execution_count": 12,
     "metadata": {},
     "output_type": "execute_result"
    }
   ],
   "source": [
    "flex_rid"
   ]
  },
  {
   "cell_type": "code",
   "execution_count": 13,
   "metadata": {},
   "outputs": [
    {
     "data": {
      "text/latex": [
       "$\\displaystyle \\left[\\begin{matrix}\\frac{L_{2}^{3} Q_{2}}{24 EJ_{2}} + \\frac{L_{1}^{3} Q_{1}}{24 EJ_{1}}\\\\\\frac{L_{3}^{3} Q_{3}}{24 EJ_{3}} + \\frac{L_{2}^{3} Q_{2}}{24 EJ_{2}}\\\\\\frac{L_{4}^{3} Q_{4}}{24 EJ_{4}} + \\frac{L_{3}^{3} Q_{3}}{24 EJ_{3}}\\\\\\frac{L_{5}^{3} Q_{5}}{24 EJ_{5}} + \\frac{L_{4}^{3} Q_{4}}{24 EJ_{4}}\\\\\\frac{L_{6}^{3} Q_{6}}{24 EJ_{6}} + \\frac{L_{5}^{3} Q_{5}}{24 EJ_{5}}\\end{matrix}\\right]$"
      ],
      "text/plain": [
       "Matrix([\n",
       "[L_2**3*Q_2/(24*EJ_2) + L_1**3*Q_1/(24*EJ_1)],\n",
       "[L_3**3*Q_3/(24*EJ_3) + L_2**3*Q_2/(24*EJ_2)],\n",
       "[L_4**3*Q_4/(24*EJ_4) + L_3**3*Q_3/(24*EJ_3)],\n",
       "[L_5**3*Q_5/(24*EJ_5) + L_4**3*Q_4/(24*EJ_4)],\n",
       "[L_6**3*Q_6/(24*EJ_6) + L_5**3*Q_5/(24*EJ_5)]])"
      ]
     },
     "execution_count": 13,
     "metadata": {},
     "output_type": "execute_result"
    }
   ],
   "source": [
    "P_rid"
   ]
  },
  {
   "cell_type": "markdown",
   "metadata": {},
   "source": [
    "## Substituting of numeric values"
   ]
  },
  {
   "cell_type": "code",
   "execution_count": 14,
   "metadata": {},
   "outputs": [
    {
     "data": {
      "text/latex": [
       "$\\displaystyle \\left[\\begin{matrix}2.5416190113102 \\cdot 10^{-5} & 7.62485703393061 \\cdot 10^{-6} & 0 & 0 & 0\\\\7.62485703393061 \\cdot 10^{-6} & 2.88050154615157 \\cdot 10^{-5} & 6.77765069682721 \\cdot 10^{-6} & 0 & 0\\\\0 & 6.77765069682721 \\cdot 10^{-6} & 3.04994281357225 \\cdot 10^{-5} & 8.47206337103402 \\cdot 10^{-6} & 0\\\\0 & 0 & 8.47206337103402 \\cdot 10^{-6} & 3.77854026348117 \\cdot 10^{-5} & 1.04206379463718 \\cdot 10^{-5}\\\\0 & 0 & 0 & 1.04206379463718 \\cdot 10^{-5} & 3.43965772863981 \\cdot 10^{-5}\\end{matrix}\\right]$"
      ],
      "text/plain": [
       "Matrix([\n",
       "[ 2.5416190113102e-5, 7.62485703393061e-6,                   0,                   0,                   0],\n",
       "[7.62485703393061e-6, 2.88050154615157e-5, 6.77765069682721e-6,                   0,                   0],\n",
       "[                  0, 6.77765069682721e-6, 3.04994281357225e-5, 8.47206337103402e-6,                   0],\n",
       "[                  0,                   0, 8.47206337103402e-6, 3.77854026348117e-5, 1.04206379463718e-5],\n",
       "[                  0,                   0,                   0, 1.04206379463718e-5, 3.43965772863981e-5]])"
      ]
     },
     "execution_count": 14,
     "metadata": {},
     "output_type": "execute_result"
    }
   ],
   "source": [
    "flex_sub = flex_rid \\\n",
    "            .subs(zip(L,lenghts)) \\\n",
    "            .subs(zip(EJ,ej))\n",
    "flex_sub"
   ]
  },
  {
   "cell_type": "code",
   "execution_count": 15,
   "metadata": {},
   "outputs": [
    {
     "data": {
      "text/latex": [
       "$\\displaystyle \\left[\\begin{matrix}1.14372855508959 \\cdot 10^{-5} Q_{1} + 3.86008387342737 \\cdot 10^{-5} Q_{2}\\\\3.86008387342737 \\cdot 10^{-5} Q_{2} + 2.71106027873089 \\cdot 10^{-5} Q_{3}\\\\2.71106027873089 \\cdot 10^{-5} Q_{3} + 5.29503960689626 \\cdot 10^{-5} Q_{4}\\\\5.29503960689626 \\cdot 10^{-5} Q_{4} + 9.85336446816622 \\cdot 10^{-5} Q_{5}\\\\9.85336446816622 \\cdot 10^{-5} Q_{5} + 2.71106027873089 \\cdot 10^{-5} Q_{6}\\end{matrix}\\right]$"
      ],
      "text/plain": [
       "Matrix([\n",
       "[1.14372855508959e-5*Q_1 + 3.86008387342737e-5*Q_2],\n",
       "[3.86008387342737e-5*Q_2 + 2.71106027873089e-5*Q_3],\n",
       "[2.71106027873089e-5*Q_3 + 5.29503960689626e-5*Q_4],\n",
       "[5.29503960689626e-5*Q_4 + 9.85336446816622e-5*Q_5],\n",
       "[9.85336446816622e-5*Q_5 + 2.71106027873089e-5*Q_6]])"
      ]
     },
     "execution_count": 15,
     "metadata": {},
     "output_type": "execute_result"
    }
   ],
   "source": [
    "P_sub = P_rid \\\n",
    "            .subs(zip(L,lenghts)) \\\n",
    "            .subs(zip(EJ,ej))\n",
    "P_sub"
   ]
  },
  {
   "cell_type": "code",
   "execution_count": null,
   "metadata": {},
   "outputs": [],
   "source": []
  }
 ],
 "metadata": {
  "interpreter": {
   "hash": "e9dfbbb36e3b3679682f891148ee1981976897dd5367a65a9c1bc658de856a84"
  },
  "kernelspec": {
   "display_name": "Python 3.9.7 ('st')",
   "language": "python",
   "name": "python3"
  },
  "language_info": {
   "codemirror_mode": {
    "name": "ipython",
    "version": 3
   },
   "file_extension": ".py",
   "mimetype": "text/x-python",
   "name": "python",
   "nbconvert_exporter": "python",
   "pygments_lexer": "ipython3",
   "version": "3.9.7"
  },
  "orig_nbformat": 4
 },
 "nbformat": 4,
 "nbformat_minor": 2
}
