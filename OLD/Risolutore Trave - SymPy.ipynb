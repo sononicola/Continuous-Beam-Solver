{
 "cells": [
  {
   "cell_type": "markdown",
   "metadata": {},
   "source": [
    "## Note:\n",
    "This file does the same things of **Risolutore Trave - SageMath.ipynb** but it is convertend in pure Sympy language and not more in SageMath. That's because SageMath is a dito in culo per fare cose banali."
   ]
  },
  {
   "cell_type": "code",
   "execution_count": 41,
   "metadata": {},
   "outputs": [],
   "source": [
    "import sympy as sp\n",
    "import numpy as np"
   ]
  },
  {
   "cell_type": "markdown",
   "metadata": {},
   "source": [
    "## Values"
   ]
  },
  {
   "cell_type": "code",
   "execution_count": 2,
   "metadata": {},
   "outputs": [],
   "source": [
    "l1=3.00\n",
    "l2=4.50\n",
    "l3=4.00\n",
    "l4=5.00\n",
    "l5=6.15\n",
    "l6=4.00\n",
    "lenghts=[l1,l2,l3,l4,l5,l6]\n",
    "\n",
    "j=(0.3 * 0.5**3)/12 #m4\n",
    "ej1=31476*1000000*j/1000 #Mpa * m4 -> N*m2 -> kN*m2\n",
    "ej=[ej1,ej1,ej1,ej1,ej1,ej1]"
   ]
  },
  {
   "cell_type": "markdown",
   "metadata": {},
   "source": [
    "## Creation of the symbolic matrixes:"
   ]
  },
  {
   "cell_type": "code",
   "execution_count": 3,
   "metadata": {},
   "outputs": [],
   "source": [
    "nCampate =  6\n",
    "L   = sp.Matrix(nCampate, 1, [sp.symbols(f\"L_{i}\",real=\"True\",nonnegative=\"True\") for i in range(1, nCampate+1)]   )\n",
    "P   = sp.Matrix(nCampate, 1, [sp.symbols(f\"P_{i}\") for i in range(1, nCampate+1)]   )\n",
    "Q   = sp.Matrix(nCampate, 1, [sp.symbols(f\"Q_{i}\",positive=\"True\") for i in range(1, nCampate+1)]   )\n",
    "EJ  = sp.Matrix(nCampate, 1, [sp.symbols(f\"EJ_{i}\") for i in range(1, nCampate+1)]  )"
   ]
  },
  {
   "cell_type": "markdown",
   "metadata": {},
   "source": [
    "### Flex matrix"
   ]
  },
  {
   "cell_type": "code",
   "execution_count": 4,
   "metadata": {},
   "outputs": [
    {
     "data": {
      "text/latex": [
       "$\\displaystyle \\left[\\begin{matrix}0\\\\\\frac{L_{1}}{3 EJ_{1}}\\\\\\frac{L_{2}}{3 EJ_{2}}\\\\\\frac{L_{3}}{3 EJ_{3}}\\\\\\frac{L_{4}}{3 EJ_{4}}\\\\\\frac{L_{5}}{3 EJ_{5}}\\\\\\frac{L_{6}}{3 EJ_{6}}\\end{matrix}\\right]$"
      ],
      "text/plain": [
       "Matrix([\n",
       "[           0],\n",
       "[L_1/(3*EJ_1)],\n",
       "[L_2/(3*EJ_2)],\n",
       "[L_3/(3*EJ_3)],\n",
       "[L_4/(3*EJ_4)],\n",
       "[L_5/(3*EJ_5)],\n",
       "[L_6/(3*EJ_6)]])"
      ]
     },
     "execution_count": 4,
     "metadata": {},
     "output_type": "execute_result"
    }
   ],
   "source": [
    "flex_diag_sx = sp.Matrix([sp.Rational(1,3) * L[i] * EJ[i]**-1 for i in range(0,nCampate)])\n",
    "# Aggiunge uno zero all'inizio diventando n+1\n",
    "flex_diag_sx = sp.Matrix.vstack(sp.zeros(1,1), flex_diag_sx) \n",
    "flex_diag_sx"
   ]
  },
  {
   "cell_type": "code",
   "execution_count": 5,
   "metadata": {},
   "outputs": [
    {
     "data": {
      "text/latex": [
       "$\\displaystyle \\left[\\begin{matrix}\\frac{L_{1}}{3 EJ_{1}}\\\\\\frac{L_{2}}{3 EJ_{2}}\\\\\\frac{L_{3}}{3 EJ_{3}}\\\\\\frac{L_{4}}{3 EJ_{4}}\\\\\\frac{L_{5}}{3 EJ_{5}}\\\\\\frac{L_{6}}{3 EJ_{6}}\\\\0\\end{matrix}\\right]$"
      ],
      "text/plain": [
       "Matrix([\n",
       "[L_1/(3*EJ_1)],\n",
       "[L_2/(3*EJ_2)],\n",
       "[L_3/(3*EJ_3)],\n",
       "[L_4/(3*EJ_4)],\n",
       "[L_5/(3*EJ_5)],\n",
       "[L_6/(3*EJ_6)],\n",
       "[           0]])"
      ]
     },
     "execution_count": 5,
     "metadata": {},
     "output_type": "execute_result"
    }
   ],
   "source": [
    "flex_diag_dx = sp.Matrix([sp.Rational(1,3) * L[i] * EJ[i]**-1 for i in range(0,nCampate)])\n",
    "# Aggiunge uno zero alla fine diventando n+1:\n",
    "flex_diag_dx = sp.Matrix.vstack(flex_diag_dx , sp.zeros(1,1)) \n",
    "flex_diag_dx"
   ]
  },
  {
   "cell_type": "code",
   "execution_count": 6,
   "metadata": {},
   "outputs": [
    {
     "data": {
      "text/latex": [
       "$\\displaystyle \\left[\\begin{matrix}\\frac{L_{1}}{3 EJ_{1}}\\\\\\frac{L_{2}}{3 EJ_{2}} + \\frac{L_{1}}{3 EJ_{1}}\\\\\\frac{L_{3}}{3 EJ_{3}} + \\frac{L_{2}}{3 EJ_{2}}\\\\\\frac{L_{4}}{3 EJ_{4}} + \\frac{L_{3}}{3 EJ_{3}}\\\\\\frac{L_{5}}{3 EJ_{5}} + \\frac{L_{4}}{3 EJ_{4}}\\\\\\frac{L_{6}}{3 EJ_{6}} + \\frac{L_{5}}{3 EJ_{5}}\\\\\\frac{L_{6}}{3 EJ_{6}}\\end{matrix}\\right]$"
      ],
      "text/plain": [
       "Matrix([\n",
       "[               L_1/(3*EJ_1)],\n",
       "[L_2/(3*EJ_2) + L_1/(3*EJ_1)],\n",
       "[L_3/(3*EJ_3) + L_2/(3*EJ_2)],\n",
       "[L_4/(3*EJ_4) + L_3/(3*EJ_3)],\n",
       "[L_5/(3*EJ_5) + L_4/(3*EJ_4)],\n",
       "[L_6/(3*EJ_6) + L_5/(3*EJ_5)],\n",
       "[               L_6/(3*EJ_6)]])"
      ]
     },
     "execution_count": 6,
     "metadata": {},
     "output_type": "execute_result"
    }
   ],
   "source": [
    "flex_diag_tot = flex_diag_sx + flex_diag_dx\n",
    "flex_diag_tot\n"
   ]
  },
  {
   "cell_type": "code",
   "execution_count": 7,
   "metadata": {},
   "outputs": [
    {
     "data": {
      "text/latex": [
       "$\\displaystyle \\left[\\begin{matrix}\\frac{L_{1}}{6 EJ_{1}}\\\\\\frac{L_{2}}{6 EJ_{2}}\\\\\\frac{L_{3}}{6 EJ_{3}}\\\\\\frac{L_{4}}{6 EJ_{4}}\\\\\\frac{L_{5}}{6 EJ_{5}}\\\\\\frac{L_{6}}{6 EJ_{6}}\\end{matrix}\\right]$"
      ],
      "text/plain": [
       "Matrix([\n",
       "[L_1/(6*EJ_1)],\n",
       "[L_2/(6*EJ_2)],\n",
       "[L_3/(6*EJ_3)],\n",
       "[L_4/(6*EJ_4)],\n",
       "[L_5/(6*EJ_5)],\n",
       "[L_6/(6*EJ_6)]])"
      ]
     },
     "execution_count": 7,
     "metadata": {},
     "output_type": "execute_result"
    }
   ],
   "source": [
    "flex_lowerdiag = sp.Rational(1,2) * sp.Matrix(flex_diag_sx[1:nCampate+1])\n",
    "flex_lowerdiag"
   ]
  },
  {
   "cell_type": "code",
   "execution_count": 8,
   "metadata": {},
   "outputs": [
    {
     "data": {
      "text/latex": [
       "$\\displaystyle \\left[\\begin{matrix}\\frac{L_{1}}{6 EJ_{1}}\\\\\\frac{L_{2}}{6 EJ_{2}}\\\\\\frac{L_{3}}{6 EJ_{3}}\\\\\\frac{L_{4}}{6 EJ_{4}}\\\\\\frac{L_{5}}{6 EJ_{5}}\\\\\\frac{L_{6}}{6 EJ_{6}}\\end{matrix}\\right]$"
      ],
      "text/plain": [
       "Matrix([\n",
       "[L_1/(6*EJ_1)],\n",
       "[L_2/(6*EJ_2)],\n",
       "[L_3/(6*EJ_3)],\n",
       "[L_4/(6*EJ_4)],\n",
       "[L_5/(6*EJ_5)],\n",
       "[L_6/(6*EJ_6)]])"
      ]
     },
     "execution_count": 8,
     "metadata": {},
     "output_type": "execute_result"
    }
   ],
   "source": [
    "flex_upperdiag = sp.Rational(1,2) * sp.Matrix(flex_diag_dx[0:-1])\n",
    "flex_upperdiag"
   ]
  },
  {
   "cell_type": "code",
   "execution_count": 9,
   "metadata": {},
   "outputs": [
    {
     "data": {
      "text/latex": [
       "$\\displaystyle \\left[\\begin{matrix}\\frac{L_{1}}{3 EJ_{1}} & \\frac{L_{1}}{6 EJ_{1}} & 0 & 0 & 0 & 0 & 0\\\\\\frac{L_{1}}{6 EJ_{1}} & \\frac{L_{2}}{3 EJ_{2}} + \\frac{L_{1}}{3 EJ_{1}} & \\frac{L_{2}}{6 EJ_{2}} & 0 & 0 & 0 & 0\\\\0 & \\frac{L_{2}}{6 EJ_{2}} & \\frac{L_{3}}{3 EJ_{3}} + \\frac{L_{2}}{3 EJ_{2}} & \\frac{L_{3}}{6 EJ_{3}} & 0 & 0 & 0\\\\0 & 0 & \\frac{L_{3}}{6 EJ_{3}} & \\frac{L_{4}}{3 EJ_{4}} + \\frac{L_{3}}{3 EJ_{3}} & \\frac{L_{4}}{6 EJ_{4}} & 0 & 0\\\\0 & 0 & 0 & \\frac{L_{4}}{6 EJ_{4}} & \\frac{L_{5}}{3 EJ_{5}} + \\frac{L_{4}}{3 EJ_{4}} & \\frac{L_{5}}{6 EJ_{5}} & 0\\\\0 & 0 & 0 & 0 & \\frac{L_{5}}{6 EJ_{5}} & \\frac{L_{6}}{3 EJ_{6}} + \\frac{L_{5}}{3 EJ_{5}} & \\frac{L_{6}}{6 EJ_{6}}\\\\0 & 0 & 0 & 0 & 0 & \\frac{L_{6}}{6 EJ_{6}} & \\frac{L_{6}}{3 EJ_{6}}\\end{matrix}\\right]$"
      ],
      "text/plain": [
       "Matrix([\n",
       "[L_1/(3*EJ_1),                L_1/(6*EJ_1),                           0,                           0,                           0,                           0,            0],\n",
       "[L_1/(6*EJ_1), L_2/(3*EJ_2) + L_1/(3*EJ_1),                L_2/(6*EJ_2),                           0,                           0,                           0,            0],\n",
       "[           0,                L_2/(6*EJ_2), L_3/(3*EJ_3) + L_2/(3*EJ_2),                L_3/(6*EJ_3),                           0,                           0,            0],\n",
       "[           0,                           0,                L_3/(6*EJ_3), L_4/(3*EJ_4) + L_3/(3*EJ_3),                L_4/(6*EJ_4),                           0,            0],\n",
       "[           0,                           0,                           0,                L_4/(6*EJ_4), L_5/(3*EJ_5) + L_4/(3*EJ_4),                L_5/(6*EJ_5),            0],\n",
       "[           0,                           0,                           0,                           0,                L_5/(6*EJ_5), L_6/(3*EJ_6) + L_5/(3*EJ_5), L_6/(6*EJ_6)],\n",
       "[           0,                           0,                           0,                           0,                           0,                L_6/(6*EJ_6), L_6/(3*EJ_6)]])"
      ]
     },
     "execution_count": 9,
     "metadata": {},
     "output_type": "execute_result"
    }
   ],
   "source": [
    "flex_gen = sp.zeros(nCampate+1,nCampate+1)\n",
    "for i in range(nCampate+1): \n",
    "    flex_gen[i,i] = flex_diag_tot[i] \n",
    "for i in range(nCampate):\n",
    "    flex_gen[i,i+1] = flex_upperdiag[i]\n",
    "for i in range(nCampate):\n",
    "    flex_gen[i+1,i] = flex_lowerdiag[i]\n",
    "flex_gen"
   ]
  },
  {
   "cell_type": "markdown",
   "metadata": {},
   "source": [
    "### P vector"
   ]
  },
  {
   "cell_type": "code",
   "execution_count": 10,
   "metadata": {},
   "outputs": [
    {
     "data": {
      "text/latex": [
       "$\\displaystyle \\left[\\begin{matrix}\\frac{L_{1}^{3} Q_{1}}{24 EJ_{1}}\\\\\\frac{L_{2}^{3} Q_{2}}{24 EJ_{2}} + \\frac{L_{1}^{3} Q_{1}}{24 EJ_{1}}\\\\\\frac{L_{3}^{3} Q_{3}}{24 EJ_{3}} + \\frac{L_{2}^{3} Q_{2}}{24 EJ_{2}}\\\\\\frac{L_{4}^{3} Q_{4}}{24 EJ_{4}} + \\frac{L_{3}^{3} Q_{3}}{24 EJ_{3}}\\\\\\frac{L_{5}^{3} Q_{5}}{24 EJ_{5}} + \\frac{L_{4}^{3} Q_{4}}{24 EJ_{4}}\\\\\\frac{L_{6}^{3} Q_{6}}{24 EJ_{6}} + \\frac{L_{5}^{3} Q_{5}}{24 EJ_{5}}\\\\\\frac{L_{6}^{3} Q_{6}}{24 EJ_{6}}\\end{matrix}\\right]$"
      ],
      "text/plain": [
       "Matrix([\n",
       "[                       L_1**3*Q_1/(24*EJ_1)],\n",
       "[L_2**3*Q_2/(24*EJ_2) + L_1**3*Q_1/(24*EJ_1)],\n",
       "[L_3**3*Q_3/(24*EJ_3) + L_2**3*Q_2/(24*EJ_2)],\n",
       "[L_4**3*Q_4/(24*EJ_4) + L_3**3*Q_3/(24*EJ_3)],\n",
       "[L_5**3*Q_5/(24*EJ_5) + L_4**3*Q_4/(24*EJ_4)],\n",
       "[L_6**3*Q_6/(24*EJ_6) + L_5**3*Q_5/(24*EJ_5)],\n",
       "[                       L_6**3*Q_6/(24*EJ_6)]])"
      ]
     },
     "execution_count": 10,
     "metadata": {},
     "output_type": "execute_result"
    }
   ],
   "source": [
    "P_sx = sp.Matrix([sp.Rational(1,24) * Q[i] * L[i]**3 * EJ[i]**-1 for i in range(0,nCampate)]) \n",
    "# Aggiunge uno zero all'inizio diventando n+1\n",
    "P_sx = sp.Matrix.vstack(sp.zeros(1,1), P_sx) \n",
    "\n",
    "P_dx = sp.Matrix([sp.Rational(1,24) * Q[i] * L[i]**3 * EJ[i]**-1 for i in range(0,nCampate)])\n",
    "# Aggiunge uno zero alla fine diventando n+1:\n",
    "P_dx = sp.Matrix.vstack(P_dx , sp.zeros(1,1)) \n",
    "\n",
    "P_gen = P_sx  + P_dx\n",
    "P_gen"
   ]
  },
  {
   "cell_type": "markdown",
   "metadata": {},
   "source": [
    "## Boundary Conditions and reduced matrixes"
   ]
  },
  {
   "cell_type": "code",
   "execution_count": 11,
   "metadata": {},
   "outputs": [],
   "source": [
    "supports = \"no-incastre\"\n",
    "\n",
    "if supports == \"no-incastre\":\n",
    "    flex_rid = flex_gen[1:nCampate,1:nCampate]\n",
    "    P_rid    = P_gen[1:nCampate]\n",
    "elif supports == \"incastre-left\":   \n",
    "    flex_rid =  flex_gen[0:nCampate,0:nCampate]\n",
    "    P_rid    = P_gen[0:nCampate]\n",
    "elif supports == \"incastre-right\":\n",
    "    flex_rid = flex_gen[1:nCampate+1,1:nCampate+1]\n",
    "    P_rid    = P_gen[1:nCampate+1]\n",
    "elif supports == \"double-incastre\":\n",
    "    flex_rid = sp.Matrix.copy(flex_gen)\n",
    "    P_rid    = sp.Matrix.copy(P_gen)\n",
    "\n",
    "flex_rid = sp.Matrix(flex_rid)\n",
    "P_rid = sp.Matrix(P_rid)"
   ]
  },
  {
   "cell_type": "code",
   "execution_count": 12,
   "metadata": {},
   "outputs": [
    {
     "data": {
      "text/latex": [
       "$\\displaystyle \\left[\\begin{matrix}\\frac{L_{2}}{3 EJ_{2}} + \\frac{L_{1}}{3 EJ_{1}} & \\frac{L_{2}}{6 EJ_{2}} & 0 & 0 & 0\\\\\\frac{L_{2}}{6 EJ_{2}} & \\frac{L_{3}}{3 EJ_{3}} + \\frac{L_{2}}{3 EJ_{2}} & \\frac{L_{3}}{6 EJ_{3}} & 0 & 0\\\\0 & \\frac{L_{3}}{6 EJ_{3}} & \\frac{L_{4}}{3 EJ_{4}} + \\frac{L_{3}}{3 EJ_{3}} & \\frac{L_{4}}{6 EJ_{4}} & 0\\\\0 & 0 & \\frac{L_{4}}{6 EJ_{4}} & \\frac{L_{5}}{3 EJ_{5}} + \\frac{L_{4}}{3 EJ_{4}} & \\frac{L_{5}}{6 EJ_{5}}\\\\0 & 0 & 0 & \\frac{L_{5}}{6 EJ_{5}} & \\frac{L_{6}}{3 EJ_{6}} + \\frac{L_{5}}{3 EJ_{5}}\\end{matrix}\\right]$"
      ],
      "text/plain": [
       "Matrix([\n",
       "[L_2/(3*EJ_2) + L_1/(3*EJ_1),                L_2/(6*EJ_2),                           0,                           0,                           0],\n",
       "[               L_2/(6*EJ_2), L_3/(3*EJ_3) + L_2/(3*EJ_2),                L_3/(6*EJ_3),                           0,                           0],\n",
       "[                          0,                L_3/(6*EJ_3), L_4/(3*EJ_4) + L_3/(3*EJ_3),                L_4/(6*EJ_4),                           0],\n",
       "[                          0,                           0,                L_4/(6*EJ_4), L_5/(3*EJ_5) + L_4/(3*EJ_4),                L_5/(6*EJ_5)],\n",
       "[                          0,                           0,                           0,                L_5/(6*EJ_5), L_6/(3*EJ_6) + L_5/(3*EJ_5)]])"
      ]
     },
     "execution_count": 12,
     "metadata": {},
     "output_type": "execute_result"
    }
   ],
   "source": [
    "flex_rid"
   ]
  },
  {
   "cell_type": "code",
   "execution_count": 13,
   "metadata": {},
   "outputs": [
    {
     "data": {
      "text/latex": [
       "$\\displaystyle \\left[\\begin{matrix}\\frac{L_{2}^{3} Q_{2}}{24 EJ_{2}} + \\frac{L_{1}^{3} Q_{1}}{24 EJ_{1}}\\\\\\frac{L_{3}^{3} Q_{3}}{24 EJ_{3}} + \\frac{L_{2}^{3} Q_{2}}{24 EJ_{2}}\\\\\\frac{L_{4}^{3} Q_{4}}{24 EJ_{4}} + \\frac{L_{3}^{3} Q_{3}}{24 EJ_{3}}\\\\\\frac{L_{5}^{3} Q_{5}}{24 EJ_{5}} + \\frac{L_{4}^{3} Q_{4}}{24 EJ_{4}}\\\\\\frac{L_{6}^{3} Q_{6}}{24 EJ_{6}} + \\frac{L_{5}^{3} Q_{5}}{24 EJ_{5}}\\end{matrix}\\right]$"
      ],
      "text/plain": [
       "Matrix([\n",
       "[L_2**3*Q_2/(24*EJ_2) + L_1**3*Q_1/(24*EJ_1)],\n",
       "[L_3**3*Q_3/(24*EJ_3) + L_2**3*Q_2/(24*EJ_2)],\n",
       "[L_4**3*Q_4/(24*EJ_4) + L_3**3*Q_3/(24*EJ_3)],\n",
       "[L_5**3*Q_5/(24*EJ_5) + L_4**3*Q_4/(24*EJ_4)],\n",
       "[L_6**3*Q_6/(24*EJ_6) + L_5**3*Q_5/(24*EJ_5)]])"
      ]
     },
     "execution_count": 13,
     "metadata": {},
     "output_type": "execute_result"
    }
   ],
   "source": [
    "P_rid"
   ]
  },
  {
   "cell_type": "markdown",
   "metadata": {},
   "source": [
    "## Substituting of numeric values"
   ]
  },
  {
   "cell_type": "code",
   "execution_count": 65,
   "metadata": {},
   "outputs": [
    {
     "data": {
      "text/latex": [
       "$\\displaystyle \\left[\\begin{matrix}2.5416190113102 \\cdot 10^{-5} & 7.62485703393061 \\cdot 10^{-6} & 0 & 0 & 0\\\\7.62485703393061 \\cdot 10^{-6} & 2.88050154615157 \\cdot 10^{-5} & 6.77765069682721 \\cdot 10^{-6} & 0 & 0\\\\0 & 6.77765069682721 \\cdot 10^{-6} & 3.04994281357225 \\cdot 10^{-5} & 8.47206337103402 \\cdot 10^{-6} & 0\\\\0 & 0 & 8.47206337103402 \\cdot 10^{-6} & 3.77854026348117 \\cdot 10^{-5} & 1.04206379463718 \\cdot 10^{-5}\\\\0 & 0 & 0 & 1.04206379463718 \\cdot 10^{-5} & 3.43965772863981 \\cdot 10^{-5}\\end{matrix}\\right]$"
      ],
      "text/plain": [
       "Matrix([\n",
       "[ 2.5416190113102e-5, 7.62485703393061e-6,                   0,                   0,                   0],\n",
       "[7.62485703393061e-6, 2.88050154615157e-5, 6.77765069682721e-6,                   0,                   0],\n",
       "[                  0, 6.77765069682721e-6, 3.04994281357225e-5, 8.47206337103402e-6,                   0],\n",
       "[                  0,                   0, 8.47206337103402e-6, 3.77854026348117e-5, 1.04206379463718e-5],\n",
       "[                  0,                   0,                   0, 1.04206379463718e-5, 3.43965772863981e-5]])"
      ]
     },
     "execution_count": 65,
     "metadata": {},
     "output_type": "execute_result"
    }
   ],
   "source": [
    "flex_sub = flex_rid \\\n",
    "            .subs(zip(L,lenghts)) \\\n",
    "            .subs(zip(EJ,ej)) \\\n",
    "            .subs(zip(Q,np.array(sp.Identity(nCampate))[0]))\n",
    "flex_sub"
   ]
  },
  {
   "cell_type": "code",
   "execution_count": 102,
   "metadata": {},
   "outputs": [
    {
     "data": {
      "text/latex": [
       "$\\displaystyle \\left[\\begin{matrix}1.14372855508959 \\cdot 10^{-5}\\\\0\\\\0\\\\0\\\\0\\end{matrix}\\right]$"
      ],
      "text/plain": [
       "Matrix([\n",
       "[1.14372855508959e-5],\n",
       "[                  0],\n",
       "[                  0],\n",
       "[                  0],\n",
       "[                  0]])"
      ]
     },
     "execution_count": 102,
     "metadata": {},
     "output_type": "execute_result"
    }
   ],
   "source": [
    "P_sub = P_rid \\\n",
    "            .subs(zip(L,lenghts)) \\\n",
    "            .subs(zip(EJ,ej)) \\\n",
    "            .subs( zip(Q,np.identity(nCampate)[0]))\n",
    "P_sub"
   ]
  },
  {
   "cell_type": "code",
   "execution_count": 103,
   "metadata": {},
   "outputs": [
    {
     "data": {
      "text/latex": [
       "$\\displaystyle \\left[\\begin{matrix}0.4913369425523\\\\-0.137789808507666\\\\0.032852625786243\\\\-0.00803760602434189\\\\0.00243503827831047\\end{matrix}\\right]$"
      ],
      "text/plain": [
       "Matrix([\n",
       "[     0.4913369425523],\n",
       "[  -0.137789808507666],\n",
       "[   0.032852625786243],\n",
       "[-0.00803760602434189],\n",
       "[ 0.00243503827831047]])"
      ]
     },
     "execution_count": 103,
     "metadata": {},
     "output_type": "execute_result"
    }
   ],
   "source": [
    "(flex_sub.inv() * P_sub)"
   ]
  },
  {
   "cell_type": "code",
   "execution_count": 122,
   "metadata": {},
   "outputs": [],
   "source": [
    "x=[sp.Matrix([\n",
    "[                   0],\n",
    "[   0.491338912574569],\n",
    "[  -0.137796375248564],\n",
    "[  0.0328783181600082],\n",
    "[-0.00812484517717799],\n",
    "[ 0.00273048075626473],\n",
    "[-0.00136524037813237]])]"
   ]
  },
  {
   "cell_type": "code",
   "execution_count": 123,
   "metadata": {},
   "outputs": [
    {
     "data": {
      "text/latex": [
       "$\\displaystyle \\left[\\begin{matrix}0\\\\0.491338912574569\\\\-0.137796375248564\\\\0.0328783181600082\\\\-0.00812484517717799\\\\0.00273048075626473\\\\-0.00136524037813237\\end{matrix}\\right]$"
      ],
      "text/plain": [
       "Matrix([\n",
       "[                   0],\n",
       "[   0.491338912574569],\n",
       "[  -0.137796375248564],\n",
       "[  0.0328783181600082],\n",
       "[-0.00812484517717799],\n",
       "[ 0.00273048075626473],\n",
       "[-0.00136524037813237]])"
      ]
     },
     "execution_count": 123,
     "metadata": {},
     "output_type": "execute_result"
    }
   ],
   "source": [
    "x[n_span]"
   ]
  },
  {
   "cell_type": "code",
   "execution_count": 126,
   "metadata": {},
   "outputs": [
    {
     "data": {
      "text/plain": [
       "[3.0, 4.5, 4.0, 5.0, 6.15, 4.0]"
      ]
     },
     "execution_count": 126,
     "metadata": {},
     "output_type": "execute_result"
    }
   ],
   "source": [
    "lenghts"
   ]
  },
  {
   "cell_type": "code",
   "execution_count": 127,
   "metadata": {},
   "outputs": [
    {
     "data": {
      "text/latex": [
       "$\\displaystyle \\left[\\begin{matrix}1.66377963752486\\\\-0.139807841738474\\\\0.042668673352143\\\\-0.00820063266743724\\\\0.00176509364771426\\\\-0.00102393028359928\\end{matrix}\\right]$"
      ],
      "text/plain": [
       "Matrix([\n",
       "[    1.66377963752486],\n",
       "[  -0.139807841738474],\n",
       "[   0.042668673352143],\n",
       "[-0.00820063266743724],\n",
       "[ 0.00176509364771426],\n",
       "[-0.00102393028359928]])"
      ]
     },
     "execution_count": 127,
     "metadata": {},
     "output_type": "execute_result"
    }
   ],
   "source": [
    "n_span = 0\n",
    "for i in range(0,nCampate+1):\n",
    "    pass\n",
    "sp.Matrix([\n",
    "        [((x[n_span][1]-x[n_span][0])/l1)+l1/2],\n",
    "        [((x[n_span][2]-x[n_span][1])/l2)],\n",
    "        [((x[n_span][3]-x[n_span][2])/l3)],\n",
    "        [((x[n_span][4]-x[n_span][3])/l4)],\n",
    "        [((x[n_span][5]-x[n_span][4])/l5)],\n",
    "        [((x[n_span][6]-x[n_span][5])/l6)],\n",
    "    ]); R1"
   ]
  },
  {
   "cell_type": "code",
   "execution_count": 176,
   "metadata": {},
   "outputs": [
    {
     "name": "stdout",
     "output_type": "stream",
     "text": [
      "\\left[\\begin{matrix}1.66377963752486\\\\-0.139807841738474\\\\0.042668673352143\\\\-0.00820063266743724\\\\0.00176509364771426\\\\-0.00102393028359928\\end{matrix}\\right]\n"
     ]
    }
   ],
   "source": [
    "a = sp.Matrix([  (x[n_span][i+1] - x[n_span][i])/lenghts[i] for i in range(0,nCampate)  ]) + sp.Matrix(lenghts[n_span]/2 * np.identity(nCampate)[n_span])\n",
    "sp.print_latex(a)"
   ]
  },
  {
   "cell_type": "code",
   "execution_count": null,
   "metadata": {},
   "outputs": [],
   "source": [
    "[    1.33622036247514]\n",
    "[   0.139807841738474]\n",
    "[ -0.0426686733521432]\n",
    "[ 0.00820063266743724]\n",
    "[-0.00176509364771426]\n",
    "[ 0.00102393028359927]"
   ]
  },
  {
   "cell_type": "code",
   "execution_count": null,
   "metadata": {},
   "outputs": [],
   "source": [
    "xxxi=xi\n",
    "    rrri=Ri.list()\n",
    "    i=nCampata\n",
    "     ((xxxi[0] + rrri[0] * (x-lung[0])) - (I[i-1,0]*(x-lung[i-1])**2)/2) * (heaviside(x-lung[0]) - heaviside(x-lung[1]))"
   ]
  },
  {
   "cell_type": "code",
   "execution_count": 151,
   "metadata": {},
   "outputs": [
    {
     "data": {
      "text/plain": [
       "array([ 0.        ,  0.26919192,  0.53838384,  0.80757576,  1.07676768,\n",
       "        1.3459596 ,  1.61515152,  1.88434343,  2.15353535,  2.42272727,\n",
       "        2.69191919,  2.96111111,  3.23030303,  3.49949495,  3.76868687,\n",
       "        4.03787879,  4.30707071,  4.57626263,  4.84545455,  5.11464646,\n",
       "        5.38383838,  5.6530303 ,  5.92222222,  6.19141414,  6.46060606,\n",
       "        6.72979798,  6.9989899 ,  7.26818182,  7.53737374,  7.80656566,\n",
       "        8.07575758,  8.34494949,  8.61414141,  8.88333333,  9.15252525,\n",
       "        9.42171717,  9.69090909,  9.96010101, 10.22929293, 10.49848485,\n",
       "       10.76767677, 11.03686869, 11.30606061, 11.57525253, 11.84444444,\n",
       "       12.11363636, 12.38282828, 12.6520202 , 12.92121212, 13.19040404,\n",
       "       13.45959596, 13.72878788, 13.9979798 , 14.26717172, 14.53636364,\n",
       "       14.80555556, 15.07474747, 15.34393939, 15.61313131, 15.88232323,\n",
       "       16.15151515, 16.42070707, 16.68989899, 16.95909091, 17.22828283,\n",
       "       17.49747475, 17.76666667, 18.03585859, 18.30505051, 18.57424242,\n",
       "       18.84343434, 19.11262626, 19.38181818, 19.6510101 , 19.92020202,\n",
       "       20.18939394, 20.45858586, 20.72777778, 20.9969697 , 21.26616162,\n",
       "       21.53535354, 21.80454545, 22.07373737, 22.34292929, 22.61212121,\n",
       "       22.88131313, 23.15050505, 23.41969697, 23.68888889, 23.95808081,\n",
       "       24.22727273, 24.49646465, 24.76565657, 25.03484848, 25.3040404 ,\n",
       "       25.57323232, 25.84242424, 26.11161616, 26.38080808, 26.65      ])"
      ]
     },
     "execution_count": 151,
     "metadata": {},
     "output_type": "execute_result"
    }
   ],
   "source": [
    "s = np.linspace(0, np.sum(lenghts))\n",
    "sp.heav\n",
    "s\n"
   ]
  },
  {
   "cell_type": "code",
   "execution_count": 120,
   "metadata": {},
   "outputs": [
    {
     "data": {
      "text/plain": [
       "{'span 1': Matrix([\n",
       " [     0.4913369425523],\n",
       " [  -0.137789808507666],\n",
       " [   0.032852625786243],\n",
       " [-0.00803760602434189],\n",
       " [ 0.00243503827831047]]),\n",
       " 'span 2': Matrix([\n",
       " [  1.19322157740064],\n",
       " [  1.08509474199787],\n",
       " [-0.258714428066663],\n",
       " [0.0632961474416924],\n",
       " [-0.019175926441695]]),\n",
       " 'span 3': Matrix([\n",
       " [-0.248739988673003],\n",
       " [ 0.829133295576676],\n",
       " [ 0.756015981056258],\n",
       " [-0.184964168263868],\n",
       " [0.0560359426021077]]),\n",
       " 'span 4': Matrix([\n",
       " [ 0.114884350749543],\n",
       " [-0.382947835831804],\n",
       " [  1.49828340769194],\n",
       " [  1.16253800097445],\n",
       " [-0.352197473201619]]),\n",
       " 'span 5': Matrix([\n",
       " [-0.048266821453027],\n",
       " [ 0.160889404843435],\n",
       " [-0.629479796449921],\n",
       " [  2.13741574334496],\n",
       " [  2.21709295213933]]),\n",
       " 'span 6': Matrix([\n",
       " [0.00577194258562473],\n",
       " [-0.0192398086187489],\n",
       " [ 0.0752757512208565],\n",
       " [ -0.255600857500086],\n",
       " [  0.865613067666282]])}"
      ]
     },
     "execution_count": 120,
     "metadata": {},
     "output_type": "execute_result"
    }
   ],
   "source": [
    "list_of_reduced_x_solution_vectors = {}\n",
    "for n_span in range(nCampate):\n",
    "    flex_sub = flex_rid \\\n",
    "        .subs(zip(L,lenghts)) \\\n",
    "        .subs(zip(EJ,ej)) \\\n",
    "        .subs(zip(Q,np.array(sp.Identity(nCampate))[n_span]))\n",
    "\n",
    "    P_sub = P_rid \\\n",
    "        .subs(zip(L,lenghts)) \\\n",
    "        .subs(zip(EJ,ej)) \\\n",
    "        .subs( zip(Q,np.identity(nCampate)[n_span]))\n",
    "\n",
    "    # solve the system: # --- maybe there is a more efificient way \n",
    "    x = flex_sub.inv() * P_sub\n",
    "\n",
    "    list_of_reduced_x_solution_vectors[f\"span {n_span+1}\"] = x\n",
    "list_of_reduced_x_solution_vectors"
   ]
  },
  {
   "cell_type": "code",
   "execution_count": 163,
   "metadata": {},
   "outputs": [],
   "source": [
    "import matplotlib.pyplot as plt\n",
    "from sympy import Heaviside\n"
   ]
  },
  {
   "cell_type": "code",
   "execution_count": 166,
   "metadata": {},
   "outputs": [],
   "source": [
    "s = sp.Symbol('s')\n",
    "\n",
    "a = np.sum([(-Heaviside(s - 7.5) + Heaviside(s - 3.0))*(0.397735354491756*s - 4.5*(0.333333333333333*s - 1)**2 - 1.19320606347527), (18.2483054107966 - 2.27401324630952*s)*(-Heaviside(s - 11.5) + Heaviside(s - 7.5)), (4.94932818553591 - 0.336015802648127*s)*(-Heaviside(s - 16.5) + Heaviside(s - 11.5)), (0.0645799822560682*s - 1.32448646273519)*(-Heaviside(s - 22.65) + Heaviside(s - 16.5)), (0.37882070334601 - 0.0139001124757498*s)*(-Heaviside(s - 26.65) + Heaviside(s - 22.65))])"
   ]
  },
  {
   "cell_type": "code",
   "execution_count": 168,
   "metadata": {},
   "outputs": [
    {
     "data": {
      "text/latex": [
       "$\\displaystyle \\left(0.37882070334601 - 0.0139001124757498 s\\right) \\left(- \\theta\\left(s - 26.65\\right) + \\theta\\left(s - 22.65\\right)\\right) + \\left(4.94932818553591 - 0.336015802648127 s\\right) \\left(- \\theta\\left(s - 16.5\\right) + \\theta\\left(s - 11.5\\right)\\right) + \\left(18.2483054107966 - 2.27401324630952 s\\right) \\left(- \\theta\\left(s - 11.5\\right) + \\theta\\left(s - 7.5\\right)\\right) + \\left(0.0645799822560682 s - 1.32448646273519\\right) \\left(- \\theta\\left(s - 22.65\\right) + \\theta\\left(s - 16.5\\right)\\right) + \\left(- \\theta\\left(s - 7.5\\right) + \\theta\\left(s - 3.0\\right)\\right) \\left(0.397735354491756 s - 4.5 \\left(0.333333333333333 s - 1\\right)^{2} - 1.19320606347527\\right)$"
      ],
      "text/plain": [
       "(0.37882070334601 - 0.0139001124757498*s)*(-Heaviside(s - 26.65) + Heaviside(s - 22.65)) + (4.94932818553591 - 0.336015802648127*s)*(-Heaviside(s - 16.5) + Heaviside(s - 11.5)) + (18.2483054107966 - 2.27401324630952*s)*(-Heaviside(s - 11.5) + Heaviside(s - 7.5)) + (0.0645799822560682*s - 1.32448646273519)*(-Heaviside(s - 22.65) + Heaviside(s - 16.5)) + (-Heaviside(s - 7.5) + Heaviside(s - 3.0))*(0.397735354491756*s - 4.5*(0.333333333333333*s - 1)**2 - 1.19320606347527)"
      ]
     },
     "execution_count": 168,
     "metadata": {},
     "output_type": "execute_result"
    }
   ],
   "source": [
    "a"
   ]
  },
  {
   "cell_type": "code",
   "execution_count": 170,
   "metadata": {},
   "outputs": [
    {
     "data": {
      "image/png": "[encoded data removed]",
      "text/plain": [
       "<Figure size 432x288 with 1 Axes>"
      ]
     },
     "metadata": {
      "needs_background": "light"
     },
     "output_type": "display_data"
    },
    {
     "data": {
      "text/plain": [
       "<sympy.plotting.plot.Plot at 0x261a556aeb0>"
      ]
     },
     "execution_count": 170,
     "metadata": {},
     "output_type": "execute_result"
    }
   ],
   "source": [
    "sp.plot(a,xlim = (0,26))"
   ]
  },
  {
   "cell_type": "code",
   "execution_count": 169,
   "metadata": {},
   "outputs": [
    {
     "ename": "SyntaxError",
     "evalue": "invalid syntax (Temp/ipykernel_16404/1842732193.py, line 1)",
     "output_type": "error",
     "traceback": [
      "\u001b[1;36m  File \u001b[1;32m\"C:\\Users\\nicola\\AppData\\Local\\Temp/ipykernel_16404/1842732193.py\"\u001b[1;36m, line \u001b[1;32m1\u001b[0m\n\u001b[1;33m    plt.plot([0 0 0 0 0 0 0 0 0 0 0 0 0.0650799145147221 0.0739191985187342\u001b[0m\n\u001b[1;37m                ^\u001b[0m\n\u001b[1;31mSyntaxError\u001b[0m\u001b[1;31m:\u001b[0m invalid syntax\n"
     ]
    }
   ],
   "source": [
    "plt.plot([0 0 0 0 0 0 0 0 0 0 0 0 0.0650799145147221 0.0739191985187342\n",
    " 0.0102941931645176 -0.125795101547928 -0.334348685618602\n",
    " -0.615366559047505 -0.968848721834637 -1.39479517398000 -1.89320591548359\n",
    " -2.46408094634540 -3.10742026656545 -3.82322387614373 -4.61149177508023\n",
    " -5.47222396337496 -6.40542044102792 -7.41108120803912 0 0 0 0 0 0 0 0 0 0\n",
    " 0 0 0 0 0 0 0 0 0 0 0 0 0 0 0 0 0 0 0 0 0 0 0 0 0 0 0 0 0 0 0 0 0 0 0 0 0\n",
    " 0 0 0 0 0 0 0 0 0 0 0 0 0 0 0 0 0 0 0 0 0 0 0 0 0])"
   ]
  },
  {
   "cell_type": "code",
   "execution_count": 172,
   "metadata": {},
   "outputs": [
    {
     "name": "stdout",
     "output_type": "stream",
     "text": [
      "0\n",
      "1\n",
      "2\n",
      "3\n",
      "4\n"
     ]
    }
   ],
   "source": [
    "for i in range(5):\n",
    "    print(i)"
   ]
  },
  {
   "cell_type": "code",
   "execution_count": 183,
   "metadata": {},
   "outputs": [
    {
     "data": {
      "text/plain": [
       "array([0, 1, 2, 3])"
      ]
     },
     "execution_count": 183,
     "metadata": {},
     "output_type": "execute_result"
    }
   ],
   "source": [
    "cum_lenghts = np.array([1,2,3])\n",
    "np.insert(cum_lenghts,0,0.0)"
   ]
  },
  {
   "cell_type": "code",
   "execution_count": null,
   "metadata": {},
   "outputs": [],
   "source": []
  }
 ],
 "metadata": {
  "interpreter": {
   "hash": "e9dfbbb36e3b3679682f891148ee1981976897dd5367a65a9c1bc658de856a84"
  },
  "kernelspec": {
   "display_name": "Python 3.9.7 ('st')",
   "language": "python",
   "name": "python3"
  },
  "language_info": {
   "codemirror_mode": {
    "name": "ipython",
    "version": 3
   },
   "file_extension": ".py",
   "mimetype": "text/x-python",
   "name": "python",
   "nbconvert_exporter": "python",
   "pygments_lexer": "ipython3",
   "version": "3.9.7"
  },
  "orig_nbformat": 4
 },
 "nbformat": 4,
 "nbformat_minor": 2
}
